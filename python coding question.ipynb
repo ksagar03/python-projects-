{
 "cells": [
  {
   "cell_type": "code",
   "execution_count": 1,
   "metadata": {},
   "outputs": [
    {
     "name": "stdout",
     "output_type": "stream",
     "text": [
      "101\n",
      "101\n"
     ]
    }
   ],
   "source": [
    "# 1. to find max of the number\n",
    "a=10\n",
    "b=100\n",
    "c=101\n",
    "maximum= max(a,b,c)\n",
    "print(maximum)\n",
    "# or\n",
    "if a>b & a>c:\n",
    "    print(a)\n",
    "elif b>c:\n",
    "    print(b)\n",
    "else:\n",
    "    print(c)\n"
   ]
  },
  {
   "cell_type": "code",
   "execution_count": 15,
   "metadata": {},
   "outputs": [
    {
     "name": "stdout",
     "output_type": "stream",
     "text": [
      "number=:5\n",
      "120\n",
      "120\n"
     ]
    }
   ],
   "source": [
    "#  factorial of number\n",
    "import math\n",
    "def num(n):\n",
    "    return 1 if n==0 | n==1 else n*num(n-1);    \n",
    "number=int(input(\"number=:\"))\n",
    "print (num(number))\n",
    "# or\n",
    "print(math.factorial(number))\n"
   ]
  },
  {
   "cell_type": "code",
   "execution_count": 23,
   "metadata": {},
   "outputs": [
    {
     "name": "stdout",
     "output_type": "stream",
     "text": [
      "enter P,T,R:10 20 30\n",
      "60.0\n",
      "60.0\n"
     ]
    }
   ],
   "source": [
    "# to find simple intrest:\n",
    "def simpleinterst(p,t,r): \n",
    "    return ((p*t*r)/100)\n",
    "P,T,R=[float(a) for a in input(\"enter P,T,R:\").split()]\n",
    "print((P*T*R)/100)\n",
    "    \n",
    "print(simpleinterst(P,T,R))"
   ]
  },
  {
   "cell_type": "code",
   "execution_count": 32,
   "metadata": {},
   "outputs": [
    {
     "name": "stdout",
     "output_type": "stream",
     "text": [
      "enter no:10,-20,30,40\n",
      "60\n"
     ]
    }
   ],
   "source": [
    "# to print sum of number in a list \n",
    "\n",
    "list=eval(input(\"enter no:\"))\n",
    "sum=0\n",
    "for i in list:\n",
    "    sum+=i\n",
    "\n",
    "print(sum)"
   ]
  },
  {
   "cell_type": "code",
   "execution_count": 45,
   "metadata": {},
   "outputs": [
    {
     "name": "stdout",
     "output_type": "stream",
     "text": [
      "* \n",
      "* * \n",
      "* * * \n",
      "* * * * \n",
      "* * * * * \n",
      "* * * * * * \n",
      "* * * * * * * \n"
     ]
    }
   ],
   "source": [
    "for x in range(1,8):\n",
    "        print(x*\"* \")\n",
    "       "
   ]
  },
  {
   "cell_type": "code",
   "execution_count": 34,
   "metadata": {},
   "outputs": [
    {
     "name": "stdout",
     "output_type": "stream",
     "text": [
      "      * \n",
      "     * * \n",
      "    * * * \n",
      "   * * * * \n",
      "  * * * * * \n",
      " * * * * * * \n",
      "  * * * * * \n",
      "   * * * * \n",
      "    * * * \n",
      "     * * \n",
      "      * \n"
     ]
    }
   ],
   "source": [
    "for x in range(1,7):\n",
    "    \n",
    "        print(\" \"*(7-x),end=\"\")\n",
    "        print(x*\"* \")\n",
    "i=6\n",
    "for x in range(1,6):\n",
    "    i-=1\n",
    "    print(\" \"*(7-i),end=\"\")\n",
    "    print(i*\"* \")"
   ]
  },
  {
   "cell_type": "code",
   "execution_count": 35,
   "metadata": {},
   "outputs": [
    {
     "name": "stdout",
     "output_type": "stream",
     "text": [
      "0\n",
      "1\n",
      "2\n",
      "3\n",
      "4\n",
      "continue\n",
      "0\n",
      "2\n",
      "4\n",
      "6\n",
      "8\n"
     ]
    }
   ],
   "source": [
    "# break and continue\n",
    "for i in range(10):\n",
    "    if i==5:\n",
    "        break\n",
    "    print(i)\n",
    "# continue\n",
    "print (\"continue\")\n",
    "for i in range(10):\n",
    "    if i%2==0:\n",
    "        print(i)\n",
    "    continue"
   ]
  },
  {
   "cell_type": "code",
   "execution_count": 8,
   "metadata": {},
   "outputs": [
    {
     "name": "stdout",
     "output_type": "stream",
     "text": [
      "solution 100/10=10.0\n",
      "solution 100/23=4.3478260869565215\n",
      "can't devide a number by 0 \n",
      "solution 100/4=25.0\n",
      "can't devide a number by 0 \n",
      "solution 100/47=2.127659574468085\n",
      "solution 100/9=11.11111111111111\n",
      "solution 100/22=4.545454545454546\n"
     ]
    }
   ],
   "source": [
    "n=[10,23,0,4,0,47,9,22]\n",
    "for i in n:\n",
    "    if i==0:\n",
    "        print(\"can't devide a number by 0 \")\n",
    "        continue\n",
    "    print(\"solution 100/{0}={1}\".format(i,100/i))"
   ]
  },
  {
   "cell_type": "code",
   "execution_count": 1,
   "metadata": {},
   "outputs": [],
   "source": [
    "# questions on string"
   ]
  },
  {
   "cell_type": "code",
   "execution_count": 24,
   "metadata": {},
   "outputs": [
    {
     "name": "stdout",
     "output_type": "stream",
     "text": [
      "hi surya how are you doing\n",
      "ih ayrus woh era uoy gniod\n",
      "gniod uoy era woh ayrus ih\n",
      "doing you are how surya hi\n"
     ]
    }
   ],
   "source": [
    "# 1. reverse a string\n",
    "string=\"hi surya how are you doing\"\n",
    "print(string)\n",
    "z=string[::-1]\n",
    "x=z.split()\n",
    "x=x[::-1]\n",
    "x=\" \".join(x)\n",
    "print(x)\n",
    "\n",
    "y=string.split()\n",
    "y=y[::-1]\n",
    "y=\" \".join(y)\n",
    "print(z)\n",
    "print(y)"
   ]
  },
  {
   "cell_type": "code",
   "execution_count": 37,
   "metadata": {},
   "outputs": [
    {
     "name": "stdout",
     "output_type": "stream",
     "text": [
      "hello ragas how era you gniod\n"
     ]
    }
   ],
   "source": [
    "# 2. to reverse every 2nd word in a string\n",
    "stri=\"hello sagar how are you doing\"\n",
    "store=[]\n",
    "st=stri.split()\n",
    "i=0\n",
    "while i<len(st):\n",
    "    if i%2!=0:\n",
    "        st[i]=\"\".join(reversed(st[i]))\n",
    "    i+=1\n",
    "yt=\" \".join(st)\n",
    "print(yt)\n",
    "    \n",
    "    \n",
    "    \n",
    "    \n",
    "    "
   ]
  },
  {
   "cell_type": "code",
   "execution_count": 7,
   "metadata": {},
   "outputs": [
    {
     "name": "stdout",
     "output_type": "stream",
     "text": [
      "skargiasrhna\n"
     ]
    }
   ],
   "source": [
    "# merge characters of 2 strings into a single string by taking characters alternatively?\n",
    "# eg: s1=\"sagar\" s2=\"krishna\"\n",
    "# output=\"skargiasrhna\"\n",
    "s1=\"sagar\" \n",
    "s2=\"krishna\"\n",
    "i=0\n",
    "j=0\n",
    "output=\"\"\n",
    "while i<len(s1) or j<len(s2):\n",
    "    if i<len(s1):\n",
    "        output+=s1[i]\n",
    "        i+=1\n",
    "    if j<len(s2):\n",
    "         output+=s2[j]\n",
    "         j+=1\n",
    "print(output)    "
   ]
  },
  {
   "cell_type": "code",
   "execution_count": 12,
   "metadata": {},
   "outputs": [
    {
     "name": "stdout",
     "output_type": "stream",
     "text": [
      "enter data :b9i3a65\n",
      "['b', 'i', 'a'] ['9', '3', '6', '5']\n"
     ]
    },
    {
     "data": {
      "text/plain": [
       "'abi3569'"
      ]
     },
     "execution_count": 12,
     "metadata": {},
     "output_type": "execute_result"
    }
   ],
   "source": [
    "# Assume input string contains only alphabet symbols and digits. \n",
    "#  Write a program to sort characters of the string, first alphabet \n",
    "#  symbols followed by digits?\n",
    "x=input(\"enter data :\")\n",
    "alpa=[]\n",
    "numaric=[]\n",
    "\n",
    "for i in x:\n",
    "    if i.isalpha():\n",
    "        alpa.append(i)\n",
    "    elif i.isnumeric():\n",
    "        numaric.append(i)\n",
    "print(alpa ,numaric)\n",
    "\n",
    "\"\".join(sorted(alpa)+sorted(numaric))"
   ]
  },
  {
   "cell_type": "code",
   "execution_count": 15,
   "metadata": {},
   "outputs": [
    {
     "name": "stdout",
     "output_type": "stream",
     "text": [
      "enter data: z8e6a3\n",
      "\n",
      "zzzzzzzz\n",
      "zzzzzzzz\n",
      "zzzzzzzzeeeeee\n",
      "zzzzzzzzeeeeee\n",
      "zzzzzzzzeeeeeeaaa\n",
      "aaaeeeeeezzzzzzzz\n"
     ]
    }
   ],
   "source": [
    "# input: a3z2b4\n",
    "#  output: aaabbbbzz\n",
    "\n",
    "x=input(\"enter data: \")\n",
    "output=\"\"\n",
    "for i in x:\n",
    "    if i.isalpha():\n",
    "        ch=i\n",
    "    elif i.isnumeric():\n",
    "        di=int(i)\n",
    "        output+=ch*di\n",
    "    print(output)\n",
    "output=\"\".join(sorted(output))\n",
    "print(output)"
   ]
  },
  {
   "cell_type": "code",
   "execution_count": 19,
   "metadata": {},
   "outputs": [
    {
     "name": "stdout",
     "output_type": "stream",
     "text": [
      "{'A', 'E', 'i', 'z', 'a', 'l', 'h'}\n",
      "AEahilz\n"
     ]
    }
   ],
   "source": [
    "# program to remove duplicates\n",
    "inputs=\"aaaaaaaaaaaazzzzzzzllllllzzzzzzzzzzzzhhhhhhhhhiiiiiihhhhhhhhhhhAAAAAAAAAAAAEEEEEEEEEEE\"\n",
    "i=set(inputs)\n",
    "print(i)\n",
    "z=\"\".join(sorted(i))\n",
    "print(z)"
   ]
  },
  {
   "cell_type": "code",
   "execution_count": 4,
   "metadata": {},
   "outputs": [
    {
     "name": "stdout",
     "output_type": "stream",
     "text": [
      "['h', 'e', 'l', 'l', 'o', ' ', 'h', 'o', 'w', ' ', 'a', 'r', 'e', ' ', 'y', 'o', 'u']\n",
      "[' ', ' ', ' ', 'a', 'e', 'e', 'h', 'h', 'l', 'l', 'o', 'o', 'o', 'r', 'u', 'w', 'y']\n"
     ]
    }
   ],
   "source": [
    "# list\n",
    "# Note: when we use split function it coverts data type to list\n",
    "#  list has both positive and negative indexes\n",
    "strings=\"hello how are you\"\n",
    "lists=list(strings)\n",
    "print(lists)\n",
    "x=sorted(lists)\n",
    "print(x)"
   ]
  },
  {
   "cell_type": "code",
   "execution_count": 8,
   "metadata": {},
   "outputs": [
    {
     "name": "stdout",
     "output_type": "stream",
     "text": [
      "['h', 'e', 'l', 'l', 'o', 'w', 'o', 'r', 'l', 'd']\n",
      "10\n",
      "3\n",
      "4\n"
     ]
    }
   ],
   "source": [
    "#  functions of list\n",
    "# 1.len-> returns actual length of the list \n",
    "x=list(\"helloworld\")\n",
    "print(x)\n",
    "print(len(x))\n",
    "# 2. count-> it returns no: of occurance of the given word\n",
    "print(x.count('l'))\n",
    "# 3. index-> returns position of the word or length in the list\n",
    "print(x.index('o'))"
   ]
  },
  {
   "cell_type": "code",
   "execution_count": 23,
   "metadata": {},
   "outputs": [
    {
     "name": "stdout",
     "output_type": "stream",
     "text": [
      "enter data:surya\n",
      "['surya', 'b']\n",
      "['surya', 'sagar', 'b']\n",
      "['surya', 'sagar', 'b', 'a', 'b', 20, 'n', 90]\n",
      "['surya', 'sagar', 'b', 'a', 'b', 'n', 90]\n",
      "90\n",
      "['surya', 'sagar', 'b', 'a', 'b', 'n']\n",
      "b\n"
     ]
    }
   ],
   "source": [
    "# manupulation of the list\n",
    "# 1. append function-> this function is used to add data to the list at the list\n",
    "lists=[]\n",
    "lists.append(input(\"enter data:\"))\n",
    "lists.append('b')\n",
    "print(lists)\n",
    "# 2. insert-> this function is used to add data in specifed location\n",
    "lists.insert(1,\"sagar\")\n",
    "print(lists)\n",
    "# 3. extend-> this function is used to merge two lists into a single list.\n",
    "list2=[\"a\",\"b\",20]\n",
    "list3=[\"n\",90]\n",
    "lists.extend(list2+list3)\n",
    "print(lists)\n",
    "# 4. remove-> this function is used to remove a specifed data by the user.\n",
    "lists.remove(20)\n",
    "print(lists)\n",
    "# 5. pop->this function is used to removes last element from the list \n",
    "# (note: we can also specify index which needs to be removed )\n",
    "print(lists.pop())\n",
    "print(lists)\n",
    "print(lists.pop(2))"
   ]
  },
  {
   "cell_type": "code",
   "execution_count": 28,
   "metadata": {},
   "outputs": [
    {
     "name": "stdout",
     "output_type": "stream",
     "text": [
      "[[10, 20, 30], [40, 50, 60], [70, 80, 90]]\n",
      "[10, 20, 30]\n",
      "[40, 50, 60]\n",
      "[70, 80, 90]\n",
      "10 20 30 \n",
      "40 50 60 \n",
      "70 80 90 \n"
     ]
    }
   ],
   "source": [
    "# nested list\n",
    "x=[[10,20,30],[40,50,60],[70,80,90]]\n",
    "print(x)\n",
    "for i in x:\n",
    "    print(i)\n",
    "for r in range(len(x)):\n",
    "    for j in range(len(x[r])):\n",
    "        print(x[r][j],end=' ')\n",
    "    print()"
   ]
  },
  {
   "cell_type": "code",
   "execution_count": 29,
   "metadata": {},
   "outputs": [
    {
     "name": "stdout",
     "output_type": "stream",
     "text": [
      "[['hello', 5], ['world', 5], ['this', 4], ['is', 2], ['sagar', 5]]\n"
     ]
    }
   ],
   "source": [
    "words=\"hello world this is sagar\".split()\n",
    "lists=[[w,len(w)]for w in words]\n",
    "print(lists)"
   ]
  },
  {
   "cell_type": "code",
   "execution_count": 8,
   "metadata": {},
   "outputs": [
    {
     "name": "stdout",
     "output_type": "stream",
     "text": [
      "<class 'tuple'> <class 'tuple'>\n",
      "(10, 20, 30, 40)\n",
      "(1, 8, 27, 64, 125, 216, 343, 512, 729)\n",
      "1\n",
      "8\n",
      "27\n",
      "64\n",
      "125\n",
      "216\n",
      "343\n",
      "512\n",
      "729\n"
     ]
    }
   ],
   "source": [
    "# tuple-> it is same as list but it is immutable it is repraseted in ()\n",
    "t=(10,20,30,40)\n",
    "# or\n",
    "t1= 10,20,30,40\n",
    "print(type(t),type(t1))\n",
    "print(t)\n",
    "# note: tuple uses same functions as list\n",
    "#  duplicates are allowed\n",
    "t2=tuple(x**3 for x in range(1,10) )\n",
    "# t2=tuple(t2)\n",
    "print(t2)\n",
    "for i in t2:\n",
    "    print(i)\n"
   ]
  },
  {
   "cell_type": "code",
   "execution_count": 14,
   "metadata": {},
   "outputs": [
    {
     "name": "stdout",
     "output_type": "stream",
     "text": [
      "{10, 20, 30}\n"
     ]
    },
    {
     "ename": "TypeError",
     "evalue": "unhashable type: 'list'",
     "output_type": "error",
     "traceback": [
      "\u001b[1;31m---------------------------------------------------------------------------\u001b[0m",
      "\u001b[1;31mTypeError\u001b[0m                                 Traceback (most recent call last)",
      "\u001b[1;32m<ipython-input-14-3465b9fa7f68>\u001b[0m in \u001b[0;36m<module>\u001b[1;34m\u001b[0m\n\u001b[0;32m      5\u001b[0m \u001b[0mprint\u001b[0m\u001b[1;33m(\u001b[0m\u001b[0ma\u001b[0m\u001b[1;33m)\u001b[0m\u001b[1;33m\u001b[0m\u001b[1;33m\u001b[0m\u001b[0m\n\u001b[0;32m      6\u001b[0m \u001b[0mb\u001b[0m\u001b[1;33m=\u001b[0m\u001b[1;33m[\u001b[0m\u001b[1;36m10\u001b[0m\u001b[1;33m,\u001b[0m\u001b[1;36m20\u001b[0m\u001b[1;33m,\u001b[0m\u001b[1;36m40\u001b[0m\u001b[1;33m,\u001b[0m\u001b[1;36m20\u001b[0m\u001b[1;33m,\u001b[0m\u001b[1;36m60\u001b[0m\u001b[1;33m,\u001b[0m\u001b[1;36m20\u001b[0m\u001b[1;33m]\u001b[0m\u001b[1;33m\u001b[0m\u001b[1;33m\u001b[0m\u001b[0m\n\u001b[1;32m----> 7\u001b[1;33m \u001b[0mc\u001b[0m\u001b[1;33m=\u001b[0m\u001b[1;33m{\u001b[0m\u001b[0mb\u001b[0m\u001b[1;33m}\u001b[0m\u001b[1;33m\u001b[0m\u001b[1;33m\u001b[0m\u001b[0m\n\u001b[0m\u001b[0;32m      8\u001b[0m \u001b[0mb\u001b[0m\u001b[1;33m=\u001b[0m\u001b[0mset\u001b[0m\u001b[1;33m(\u001b[0m\u001b[0mb\u001b[0m\u001b[1;33m)\u001b[0m\u001b[1;33m\u001b[0m\u001b[1;33m\u001b[0m\u001b[0m\n\u001b[0;32m      9\u001b[0m \u001b[0mprint\u001b[0m\u001b[1;33m(\u001b[0m\u001b[0mb\u001b[0m\u001b[1;33m)\u001b[0m\u001b[1;33m\u001b[0m\u001b[1;33m\u001b[0m\u001b[0m\n",
      "\u001b[1;31mTypeError\u001b[0m: unhashable type: 'list'"
     ]
    }
   ],
   "source": [
    "# set-> this is used when we want to have a unique values i.e duplicates are not allowed\n",
    "# it is mutable\n",
    "# {}-> reprasentation\n",
    "a={10,20,30,10}\n",
    "print(a)\n",
    "b=[10,20,40,20,60,20]\n",
    "b=set(b) # converting list into set\n",
    "print(b)"
   ]
  },
  {
   "cell_type": "code",
   "execution_count": 31,
   "metadata": {},
   "outputs": [
    {
     "name": "stdout",
     "output_type": "stream",
     "text": [
      "{10, 20, 50, 30}\n",
      "{0, 1, 2, 3, 4, 5, 6, 7, 40, 8, 10, 9, 50, 20, 60, 30}\n",
      "{0, 1, 2, 3, 4, 5, 6, 7, 40, 8, 10, 9, 50, 20, 60, 30} {0, 1, 2, 3, 4, 5, 6, 7, 8, 9, 10, 20, 30, 40, 50, 60}\n",
      "{1, 2, 3, 4, 5, 6, 7, 8, 9, 10, 20, 30, 40, 50, 60}\n",
      "{1, 2, 3, 4, 5, 6, 7, 8, 9, 10, 20, 30, 40, 60}\n"
     ]
    }
   ],
   "source": [
    "#  functions in set \n",
    "#  add-> adds data to the set\n",
    "a={10,20,30,10}\n",
    "b=[10,20,40,20,60,20]\n",
    "a.add(50) # this function can take only one argument\n",
    "print(a)\n",
    "# update-> this function is used to updates the datasets\n",
    "a.update(b,range(10)) # takes multiple arguments\n",
    "print(a)\n",
    "# copy-> this copies the set \n",
    "z=a\n",
    "# or\n",
    "x=a.copy()\n",
    "print(z,x)\n",
    "# pop()-> this function is used to remove random data \n",
    "x.pop()\n",
    "print(x)\n",
    "# remove-> this function removes specified data\n",
    "# discard -> this function is same as remove.\n",
    "x.remove(50)\n",
    "print(x)"
   ]
  },
  {
   "cell_type": "code",
   "execution_count": 14,
   "metadata": {},
   "outputs": [
    {
     "name": "stdout",
     "output_type": "stream",
     "text": [
      "12\n"
     ]
    }
   ],
   "source": [
    "# To find the closest number to the target in the array:\n",
    "# note we are giving sorted array\n",
    "def closestnumber(arr,n,target):\n",
    "    if(target <= arr[0]):\n",
    "        return arr[0]\n",
    "    if(target >= arr[n-1]):\n",
    "        return arr[n-1]\n",
    "    i=0\n",
    "    j=n\n",
    "    mid=0\n",
    "    while i<j:\n",
    "        mid=(i+j)//2\n",
    "        \n",
    "        if(target==arr[mid]):\n",
    "            return arr[mid]\n",
    "        if(target<arr[mid]):\n",
    "            if(mid>0 and target> arr[mid-1]):\n",
    "                nearestvalue(arr[mid-1],arr[mid],target)\n",
    "            j=mid\n",
    "            \n",
    "        else:\n",
    "            if(mid<n-1 and target<arr[mid+1]):\n",
    "                \n",
    "                nearestvalue(arr[mid],arr[mid+1],target)\n",
    "            \n",
    "            i=mid+1\n",
    "    return arr[mid]\n",
    "\n",
    "def nearestvalue(n1,n2,target):\n",
    "    if (target-n1>=n2-target):\n",
    "        return n2\n",
    "    else:\n",
    "        return n1\n",
    "    \n",
    "arr=[1,2,3,4,10,12,15,17]\n",
    "n=len(arr)\n",
    "target=13\n",
    "print(closestnumber(arr,n,target))\n",
    "            "
   ]
  },
  {
   "cell_type": "code",
   "execution_count": 15,
   "metadata": {},
   "outputs": [
    {
     "name": "stdout",
     "output_type": "stream",
     "text": [
      "[1, 2] [6, 7]\n"
     ]
    }
   ],
   "source": [
    "# Remove common elements from two list\n",
    "def removecommonelements(a,b):\n",
    "    a,b=list(set(a)-set(b)),list(set(b)-set(a))\n",
    "    print(a,b)\n",
    "# here in set data type we can perform union,intersection etc.  \n",
    "a=[1,2,3,4,5]\n",
    "b=[3,4,5,6,7]\n",
    "removecommonelements(a,b)"
   ]
  },
  {
   "cell_type": "code",
   "execution_count": 5,
   "metadata": {},
   "outputs": [
    {
     "name": "stdout",
     "output_type": "stream",
     "text": [
      "10\n",
      "the hexadecimal of 10 is:0xa\n"
     ]
    }
   ],
   "source": [
    "# converting decmimal to hexadecimal\n",
    "\n",
    "x=int(input())\n",
    "print(\"the hexadecimal of {0} is:\".format(x) + hex(x))\n",
    "# one more way is there, here we need to define hexadecimal values for each decimal values and use normal method to convert\n",
    "# decimal to hexdecimal "
   ]
  },
  {
   "cell_type": "code",
   "execution_count": 12,
   "metadata": {},
   "outputs": [
    {
     "name": "stdout",
     "output_type": "stream",
     "text": [
      "b'+:&5L;&\\\\@=V]R;&0 \\n'\n",
      "b'7,3$P,# P,3 Q,3 P,#$P,#$Q,# P,3$ \\n'\n"
     ]
    }
   ],
   "source": [
    "# converting binary to ASCII\n",
    "# there is a inbuilt module which can perform the action\n",
    "import binascii as basc\n",
    "\n",
    "text=b\"hello world\"\n",
    "binary=b\"11000010110001001100011\"\n",
    "\n",
    "a=basc.b2a_uu(binary)\n",
    "print(basc.b2a_uu(text))\n",
    "print(a)"
   ]
  },
  {
   "cell_type": "code",
   "execution_count": 41,
   "metadata": {},
   "outputs": [
    {
     "name": "stdout",
     "output_type": "stream",
     "text": [
      "requested array is not ther in the list\n"
     ]
    }
   ],
   "source": [
    "# to reverse a kth array in reverse order\n",
    "lists=[[1,2,3],[2,3,4],[10,9,8,5],[8,9,10,11,12]]\n",
    "k=5\n",
    "z=0\n",
    "for i in lists:\n",
    "    if(lists.index(i)+1)==k:\n",
    "        lists[k-1]=i[::-1]\n",
    "        z=1\n",
    "        \n",
    "if z==1:\n",
    "    print(lists)\n",
    "else:\n",
    "    print(\"requested array is not ther in the list\")\n",
    "        "
   ]
  },
  {
   "cell_type": "code",
   "execution_count": 55,
   "metadata": {},
   "outputs": [
    {
     "name": "stdout",
     "output_type": "stream",
     "text": [
      "th is i s sa gar a nd su rya \n"
     ]
    }
   ],
   "source": [
    "# Program to Split each word according to given percent\n",
    "\n",
    "texts=\"this is sagar and surya \"\n",
    "percent=50\n",
    "texts=texts.split()\n",
    "final_result=\"\"\n",
    "for i in texts:\n",
    "    percentage=int((percent)/100 * len(i))\n",
    "    new_texts=i[:percentage]\n",
    "    next_text=i[percentage:]\n",
    "    final_result += \"\".join(new_texts + \" \" +  next_text +\" \" )\n",
    "    \n",
    "print(final_result)    "
   ]
  },
  {
   "cell_type": "code",
   "execution_count": 57,
   "metadata": {},
   "outputs": [
    {
     "name": "stdout",
     "output_type": "stream",
     "text": [
      "[1234, 5678, 2345, 1234]\n"
     ]
    }
   ],
   "source": [
    "# to remove the numbers which are having repitative numbers\n",
    "#  eg: 4345: this number i shaving repitative numbers\n",
    "numbers=[1234,5678,2345,9897,4904,1234,87864]\n",
    "result=[i for i in numbers if len(set(str(i)))==len(str(i))] \n",
    "# str will convert each number into string [1234]=[\"1\",\"2\",\"3\",\"4\"]\n",
    "# once it is conerted to string we are then converting to set therefore the values which are repitative will be removed\n",
    "# then there will be mismatch of the length and the if condition will fail.\n",
    "print(result)"
   ]
  },
  {
   "cell_type": "code",
   "execution_count": 8,
   "metadata": {},
   "outputs": [
    {
     "name": "stdout",
     "output_type": "stream",
     "text": [
      "[]\n"
     ]
    }
   ],
   "source": [
    "# Python program to extract rows from Matrix that has distinct data types\n",
    "lists =[[1,2,3,4],['sagar',1,3,5],['surya','kavana','11'],[10,9,8,7]]\n",
    "new_lists=[]\n",
    "for i in lists:\n",
    "    length=len(list(set([type(ele) for ele in i])))\n",
    "    \n",
    "    if len(i)==length:\n",
    "        new_lists.append(i)\n",
    "print(new_lists)\n",
    "                        "
   ]
  },
  {
   "cell_type": "code",
   "execution_count": 47,
   "metadata": {},
   "outputs": [
    {
     "name": "stdout",
     "output_type": "stream",
     "text": [
      "['level', 'refer', 'madam']\n",
      "{'madam', 'level', 'refer', 'world', 'of', 'the', 'water', 'hello'}\n",
      "world of the water hello\n",
      "['hello', 'world', 'the', 'level', 'of', 'water', 'refer', 'madam']\n"
     ]
    }
   ],
   "source": [
    "# program to separate palindrome word from the sentence\n",
    "def palindrome(string):\n",
    "    if string ==string[::-1]:\n",
    "        return string\n",
    "\n",
    "strings=\"hello world the level of water refer madam\"\n",
    "a=[]\n",
    "lists=list(strings.split())\n",
    "z=set(lists)\n",
    "for i in lists:\n",
    "    s=palindrome(i)\n",
    "    if s!=None:\n",
    "        a.append(s);\n",
    "print(a)\n",
    "c=set(a)\n",
    "print(z)\n",
    "print(\" \".join(z-c))\n",
    "print (lists)"
   ]
  },
  {
   "cell_type": "code",
   "execution_count": 17,
   "metadata": {},
   "outputs": [
    {
     "name": "stdout",
     "output_type": "stream",
     "text": [
      "*\n",
      "*1*\n",
      "*121*\n",
      "*12321*\n",
      "*1234321*\n",
      "*12321*\n",
      "*121*\n",
      "*1*\n",
      "*\n",
      "None\n"
     ]
    }
   ],
   "source": [
    "# to print half dimond pattern with number\n",
    "def pattern(n):\n",
    "    \n",
    "    print(\"*\")\n",
    "    for i in range(1,n+1):\n",
    "        print(\"*\",end=\"\")\n",
    "        \n",
    "        for j in range(1,i+1):\n",
    "            print(j, end=\"\")\n",
    "            \n",
    "        for x in range(i-1,0,-1):\n",
    "            print(x, end=\"\")\n",
    "        print(\"*\",end=\"\\n\")\n",
    "    for i in range(n-1,0,-1):\n",
    "        print(\"*\",end=\"\")\n",
    "        \n",
    "        for j in range(1,i+1):\n",
    "            print(j,end=\"\")\n",
    "        for j in range(i-1,0,-1):\n",
    "            print(j,end=\"\")\n",
    "        print(\"*\",end=\"\\n\")\n",
    "        \n",
    "    print(\"*\")\n",
    "\n",
    "print(pattern(4))\n"
   ]
  },
  {
   "cell_type": "code",
   "execution_count": 26,
   "metadata": {},
   "outputs": [
    {
     "name": "stdout",
     "output_type": "stream",
     "text": [
      "[1, 2, 3, 'sagar', 'd', 2, 4, 5, 6]\n"
     ]
    }
   ],
   "source": [
    "# python program to combine the array within the lists(eg:[[1,2,3,],[\"sagar\",\"d\",2],[4,5,6]]=== [1,2,3,\"sagar\",\"d\",2])\n",
    "def combine(nestedlist):\n",
    "    \n",
    "    if not(bool(nestedlist)):\n",
    "        return nestedlist\n",
    "    \n",
    "    if isinstance(nestedlist[0],list): #this isinstance returns boolian value if the nestedlist is the list\n",
    "        \n",
    "        return combine(*nestedlist[:1])+ combine(nestedlist[1:])\n",
    "    \n",
    "    return nestedlist[:1] + combine(nestedlist[1:])\n",
    "\n",
    "nestedlist=[[1,2,3,],[\"sagar\",\"d\",2],[4,5,6]]\n",
    "print(combine(nestedlist))\n",
    "    \n"
   ]
  },
  {
   "cell_type": "code",
   "execution_count": 5,
   "metadata": {},
   "outputs": [],
   "source": [
    "# Copy contents of one file to another file\n",
    "with open(\"1.txt\",\"r\") as a , open(\"2.txt\",\"a\") as b:\n",
    "    \n",
    "    for line in a:\n",
    "        b.write(line)\n",
    "    "
   ]
  },
  {
   "cell_type": "code",
   "execution_count": 25,
   "metadata": {},
   "outputs": [
    {
     "name": "stdout",
     "output_type": "stream",
     "text": [
      "0o123 0o456\n",
      "0o4000o557\n",
      "0o256\n",
      "0o173\n"
     ]
    }
   ],
   "source": [
    "# to find sum of two octal numbers\n",
    "\n",
    "a=\"123\"\n",
    "b=\"456\"\n",
    "x=oct(int(\"256\",8))\n",
    "z=oct(int(a,8))\n",
    "y=oct(int(b,8))\n",
    "print(z,y)\n",
    "print(s)\n",
    "print(x)\n",
    "print(t)"
   ]
  },
  {
   "cell_type": "code",
   "execution_count": 9,
   "metadata": {},
   "outputs": [
    {
     "name": "stdout",
     "output_type": "stream",
     "text": [
      "40\n"
     ]
    }
   ],
   "source": [
    "# to print the sum of nested lists\n",
    "def nestedlist(lists):\n",
    "    total=0\n",
    "    for i in range(len(lists)):\n",
    "        if isinstance(lists[i],list):      # or  if type(lists[i]== list):\n",
    "            total += nestedlist(lists[i])\n",
    "        else:\n",
    "            total+=lists[i]\n",
    "    return total\n",
    "l=[1,2,3,[1,2,3,4],9,6,[4,5]]\n",
    "print(nestedlist(l))"
   ]
  },
  {
   "cell_type": "code",
   "execution_count": 12,
   "metadata": {},
   "outputs": [
    {
     "name": "stdout",
     "output_type": "stream",
     "text": [
      "1957\n"
     ]
    }
   ],
   "source": [
    "# Python program to Compute a Polynomial Equation\n",
    "# this problem can be solved using harnes method ->eg: 2x^3 – 6x^2 + 2x – 1 and x=3\n",
    "# above equation can be written as ((2x - 6)x + 2) -1\n",
    "\n",
    "def polynomialeq(poly,n,x):\n",
    "    result=poly[0]\n",
    "    for i in range(1,n):\n",
    "        result=result*x +poly[i]\n",
    "    return result\n",
    "pol=[2,-6,2,-1]\n",
    "x=11\n",
    "n=len(pol)\n",
    "print(polynomialeq(pol,n,x))"
   ]
  },
  {
   "cell_type": "code",
   "execution_count": 8,
   "metadata": {},
   "outputs": [
    {
     "name": "stdout",
     "output_type": "stream",
     "text": [
      "-2\n",
      "-2\n"
     ]
    }
   ],
   "source": [
    "# Python – Negative index of Element in List\n",
    "def xyz(lists, k):\n",
    "    \n",
    "    z=-lists[::-1].index(k)\n",
    "    return z;\n",
    "\n",
    "lists=[1,2,36,7,3,4,10,17,151,19]\n",
    "k=17\n",
    "print(xyz(lists,k))"
   ]
  },
  {
   "cell_type": "code",
   "execution_count": 18,
   "metadata": {},
   "outputs": [
    {
     "name": "stdout",
     "output_type": "stream",
     "text": [
      "['is', 'gfg@%^', 'fo@#r', 'Best!', '@#$ge24eks!']\n"
     ]
    }
   ],
   "source": [
    "xy=['gfg@%^', 'is', 'Best!', 'fo@#r', '@#$ge24eks!'] \n",
    "print(sorted(xy, reverse=True))"
   ]
  },
  {
   "cell_type": "code",
   "execution_count": 22,
   "metadata": {},
   "outputs": [
    {
     "name": "stdout",
     "output_type": "stream",
     "text": [
      "[['4', '5', '7'], ['10', '8', '3'], ['19', '4', '6'], ['9', '3', '6']]\n"
     ]
    }
   ],
   "source": [
    "# Python – Convert Integer Matrix to String Matrix\n",
    "def stringmatrix(abc):\n",
    "    \n",
    "    result=[list(map(str,ele)) for ele in abc]\n",
    "    return result\n",
    "abc=[[4, 5, 7], [10, 8, 3], [19, 4, 6], [9, 3, 6]]\n",
    "print(stringmatrix(abc))"
   ]
  },
  {
   "cell_type": "code",
   "execution_count": null,
   "metadata": {},
   "outputs": [],
   "source": []
  }
 ],
 "metadata": {
  "kernelspec": {
   "display_name": "Python 3",
   "language": "python",
   "name": "python3"
  },
  "language_info": {
   "codemirror_mode": {
    "name": "ipython",
    "version": 3
   },
   "file_extension": ".py",
   "mimetype": "text/x-python",
   "name": "python",
   "nbconvert_exporter": "python",
   "pygments_lexer": "ipython3",
   "version": "3.7.6"
  }
 },
 "nbformat": 4,
 "nbformat_minor": 4
}

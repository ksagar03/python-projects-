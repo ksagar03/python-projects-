{
 "cells": [
  {
   "cell_type": "code",
   "execution_count": null,
   "metadata": {},
   "outputs": [],
   "source": [
    "#identity operator- this is used for comparison of the data address\n",
    "# it has two operator\n",
    "# 1. is\n",
    "# 2. is not\n",
    "a=1\n",
    "b=20\n",
    "c=[1,2,3,4]\n",
    "d=[1,2,3,4]\n",
    "print(a is b)\n",
    "print(a is not b)\n",
    "print(c is d)\n",
    "print(c is not d)\n",
    "print(c == d)\n",
    "\n"
   ]
  },
  {
   "cell_type": "code",
   "execution_count": null,
   "metadata": {},
   "outputs": [],
   "source": [
    "# membership operator - this operator is used to check whether the object is there in the collection\n",
    "# it has two operator\n",
    "# 1. in\n",
    "# 2. not in\n",
    "a=\"hello good morning\"\n",
    "b=[2,1,3,4,7]\n",
    "print('h' in a)\n",
    "print('x' in a)\n",
    "print('x' not in a)\n",
    "print(7 in b)\n",
    "\n"
   ]
  },
  {
   "cell_type": "code",
   "execution_count": null,
   "metadata": {},
   "outputs": [],
   "source": [
    "# input()-> this function is used to take input from the keyboard\n",
    "# every input value is treated as str type only.\n",
    "# eg:\n",
    "x=input(\"enter number:\")\n",
    "y=input()\n",
    "z=input()\n",
    "a=y+z\n",
    "print(a)\n",
    "type(x)"
   ]
  },
  {
   "cell_type": "code",
   "execution_count": null,
   "metadata": {},
   "outputs": [],
   "source": [
    "# as you can see the output of a=1013 (i.e it is just combining both y and z as a string )"
   ]
  },
  {
   "cell_type": "code",
   "execution_count": null,
   "metadata": {},
   "outputs": [],
   "source": [
    "y=int(input())\n",
    "z=int(input())\n",
    "print(y+z)"
   ]
  },
  {
   "cell_type": "code",
   "execution_count": null,
   "metadata": {},
   "outputs": [],
   "source": [
    "# next to read multiple files from the keyboard\n",
    "a,b,z,y=[int(x) for x in input(\"enter number:\").split()]\n",
    "print(a*b*z**y)"
   ]
  },
  {
   "cell_type": "code",
   "execution_count": 2,
   "metadata": {},
   "outputs": [
    {
     "name": "stdout",
     "output_type": "stream",
     "text": [
      "enter number:10 20 3 2\n",
      "1800\n"
     ]
    }
   ],
   "source": [
    "# next to read multiple files from the keyboard\n",
    "a,b,z,y=[int(x) for x in input(\"enter number:\").split()]\n",
    "print(a*b*(z**y))"
   ]
  },
  {
   "cell_type": "code",
   "execution_count": 2,
   "metadata": {},
   "outputs": [
    {
     "name": "stdout",
     "output_type": "stream",
     "text": [
      "10*5/2.5+12-13\n",
      "8.0\n",
      "19.0\n"
     ]
    }
   ],
   "source": [
    "# eval() -> this function takes equations as a string and evaluates it and provides output.\n",
    "x=eval(\"10/5*2.5+3\")\n",
    "y=eval(input())\n",
    "print(x)\n",
    "print(y)"
   ]
  },
  {
   "cell_type": "code",
   "execution_count": 3,
   "metadata": {},
   "outputs": [],
   "source": [
    "# 1) %i  int \n",
    "# 2) %d  int \n",
    "# 3) %f  float\n",
    "# 4) %s  String type"
   ]
  },
  {
   "cell_type": "code",
   "execution_count": 8,
   "metadata": {},
   "outputs": [
    {
     "name": "stdout",
     "output_type": "stream",
     "text": [
      "my name is sagar and my age is 22\n",
      "my name is sagar and my age is 22\n"
     ]
    }
   ],
   "source": [
    "# we can also use {} to define vaiables wgile printing the data\n",
    "name =\"sagar\"\n",
    "age=22\n",
    "print(\"my name is {name} and my age is {age}\" .format(name=name, age=age))\n",
    "# or\n",
    "print(\"my name is {0} and my age is {1}\" .format(name, age))\n"
   ]
  },
  {
   "cell_type": "code",
   "execution_count": 9,
   "metadata": {},
   "outputs": [],
   "source": [
    "# control flow\n",
    "# 1.Conditional statement - if, if-elif,if-elif-else Note: switch statment is not applicable for python\n",
    "# transfer sttement- break, continue, pass\n",
    "# iterative statements- for while\n"
   ]
  },
  {
   "cell_type": "code",
   "execution_count": 12,
   "metadata": {},
   "outputs": [
    {
     "name": "stdout",
     "output_type": "stream",
     "text": [
      "enter number:11\n",
      "11 is a odd number\n"
     ]
    }
   ],
   "source": [
    "# condition statement\n",
    "number= int(input(\"enter number:\"))\n",
    "if number%2==0:\n",
    "    print(\"{0} is a even number \".format(number))\n",
    "else:\n",
    "    print(\"%d is a odd number\" %number)"
   ]
  },
  {
   "cell_type": "code",
   "execution_count": 2,
   "metadata": {},
   "outputs": [
    {
     "name": "stdout",
     "output_type": "stream",
     "text": [
      "Hello\n",
      "world\n",
      "\n"
     ]
    }
   ],
   "source": [
    "# multiline string litrals\n",
    "s='''Hello\n",
    "world\n",
    "'''\n",
    "print(s)"
   ]
  },
  {
   "cell_type": "code",
   "execution_count": 3,
   "metadata": {},
   "outputs": [
    {
     "name": "stdout",
     "output_type": "stream",
     "text": [
      "Enter string:sagar\n",
      "ragas\n",
      "ragas\n",
      "<reversed object at 0x000002492C5B2888>\n"
     ]
    }
   ],
   "source": [
    "# strings\n",
    "# 1. REVERSE A STRING\n",
    "x =input(\"Enter string:\")\n",
    "print(x[::-1])\n",
    "# or\n",
    "print(\"\".join(reversed(x)))"
   ]
  },
  {
   "cell_type": "code",
   "execution_count": 2,
   "metadata": {},
   "outputs": [
    {
     "name": "stdout",
     "output_type": "stream",
     "text": [
      "enter string:hi how are you\n",
      "you are how hi\n"
     ]
    }
   ],
   "source": [
    "# 2. reverse the order of the words\n",
    "x=input(\"enter string:\")\n",
    "l=x.split()\n",
    "j=l[::-1]\n",
    "i=\" \".join(j)\n",
    "print(i)"
   ]
  },
  {
   "cell_type": "code",
   "execution_count": 32,
   "metadata": {},
   "outputs": [
    {
     "name": "stdout",
     "output_type": "stream",
     "text": [
      "720\n",
      "120\n"
     ]
    }
   ],
   "source": [
    "# function-> it is used when user wants to perform same task(task are defined inside the function) in n number of places\n",
    "# i.e when user wants to perform a certain task, user calls that function\n",
    "def facto(n):\n",
    "    ans=1\n",
    "    if n==0:\n",
    "        ans=1\n",
    "    while n>1:\n",
    "        ans*=n\n",
    "        n-=1;\n",
    "    return ans;\n",
    "print(facto(6))  \n",
    "# recursive\n",
    "def factor(n):\n",
    "    ans=1\n",
    "    if n==0:\n",
    "        return 1\n",
    "    ans=n*factor(n-1)\n",
    "    return ans\n",
    "print(factor(5))"
   ]
  },
  {
   "cell_type": "code",
   "execution_count": 14,
   "metadata": {},
   "outputs": [
    {
     "name": "stdout",
     "output_type": "stream",
     "text": [
      "25.0\n",
      "10\n",
      "(30, 'q', 40, 90)\n",
      "100\n",
      "None\n"
     ]
    }
   ],
   "source": [
    "# types of arguments in function\n",
    "# 1) Positional Arguments \n",
    "# 2) Keyword Arguments \n",
    "# 3) Default Arguments \n",
    "# 4) Variable Length Arguments\n",
    "\n",
    "# varible length arguments-> Consider a scenario where we want to call a list to the function this can be done by using \n",
    "# variable length arguments \n",
    "# to use variable length arguments we use *variable name\n",
    "# all the data wich will be sent to the function will be reprasented in tuple format\n",
    "# eg:\n",
    "def average(*n):\n",
    "    average=sum(n)/len(n)\n",
    "    return average\n",
    "print(average(10,20,30,40))\n",
    "# we can also define the function\n",
    "def printi(n,*n1,n2):\n",
    "    print(n)\n",
    "    print(n1)\n",
    "    print(n2)\n",
    "    \n",
    "print(printi(10,30,\"q\",40,90,n2=100))\n",
    "# note- if we pass arguments after variable length arguments then we need assign that value to some variable\n",
    "\n",
    "\n",
    "    "
   ]
  },
  {
   "cell_type": "code",
   "execution_count": 18,
   "metadata": {},
   "outputs": [
    {
     "name": "stdout",
     "output_type": "stream",
     "text": [
      "n1 = 30\n",
      "n3 = 100\n",
      "name = sagar\n",
      "None\n"
     ]
    }
   ],
   "source": [
    "# we can aslo define key word arguments in variable length arguments\n",
    "# ie n1=110,n3=4000\n",
    "def keywordargs(**args):\n",
    "    for k,v in args.items():\n",
    "        print(k ,\"=\", v)\n",
    "print(keywordargs(n1=30,n3=100,name=\"sagar\"))\n",
    "# as we can see in the above example i have given key and value pairs as an input"
   ]
  },
  {
   "cell_type": "code",
   "execution_count": 22,
   "metadata": {},
   "outputs": [
    {
     "name": "stdout",
     "output_type": "stream",
     "text": [
      "10\n",
      "30\n",
      "999\n",
      "10\n",
      "999\n"
     ]
    }
   ],
   "source": [
    "# there are two types of variables\n",
    "# 1.local variable->his variable can only be accessed within the function\n",
    "# 2. global variable-> this variable can be accessd through out the program\n",
    "# eg\n",
    "a=10\n",
    "def variable():\n",
    "    global c \n",
    "    c=999\n",
    "    b=30 # this variable is local variable which can be only accessed within the function \n",
    "    print(a)\n",
    "    print(b)\n",
    "    print(c)\n",
    "\n",
    "def variablesss():\n",
    "    print(a)\n",
    "#     print(b) this line will not print because b is local variable\n",
    "    print(c)\n",
    "\n",
    "variable()\n",
    "variablesss()"
   ]
  },
  {
   "cell_type": "code",
   "execution_count": null,
   "metadata": {},
   "outputs": [],
   "source": []
  }
 ],
 "metadata": {
  "kernelspec": {
   "display_name": "Python 3",
   "language": "python",
   "name": "python3"
  },
  "language_info": {
   "codemirror_mode": {
    "name": "ipython",
    "version": 3
   },
   "file_extension": ".py",
   "mimetype": "text/x-python",
   "name": "python",
   "nbconvert_exporter": "python",
   "pygments_lexer": "ipython3",
   "version": "3.7.6"
  }
 },
 "nbformat": 4,
 "nbformat_minor": 4
}

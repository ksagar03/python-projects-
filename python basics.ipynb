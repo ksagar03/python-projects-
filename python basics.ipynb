{
 "cells": [
  {
   "cell_type": "code",
   "execution_count": null,
   "metadata": {},
   "outputs": [],
   "source": [
    "#identity operator- this is used for comparison of the data address\n",
    "# it has two operator\n",
    "# 1. is\n",
    "# 2. is not\n",
    "a=1\n",
    "b=20\n",
    "c=[1,2,3,4]\n",
    "d=[1,2,3,4]\n",
    "print(a is b)\n",
    "print(a is not b)\n",
    "print(c is d)\n",
    "print(c is not d)\n",
    "print(c == d)\n",
    "\n"
   ]
  },
  {
   "cell_type": "code",
   "execution_count": null,
   "metadata": {},
   "outputs": [],
   "source": [
    "# membership operator - this operator is used to check whether the object is there in the collection\n",
    "# it has two operator\n",
    "# 1. in\n",
    "# 2. not in\n",
    "a=\"hello good morning\"\n",
    "b=[2,1,3,4,7]\n",
    "print('h' in a)\n",
    "print('x' in a)\n",
    "print('x' not in a)\n",
    "print(7 in b)\n",
    "\n"
   ]
  },
  {
   "cell_type": "code",
   "execution_count": null,
   "metadata": {},
   "outputs": [],
   "source": [
    "# input()-> this function is used to take input from the keyboard\n",
    "# every input value is treated as str type only.\n",
    "# eg:\n",
    "x=input(\"enter number:\")\n",
    "y=input()\n",
    "z=input()\n",
    "a=y+z\n",
    "print(a)\n",
    "type(x)"
   ]
  },
  {
   "cell_type": "code",
   "execution_count": null,
   "metadata": {},
   "outputs": [],
   "source": [
    "# as you can see the output of a=1013 (i.e it is just combining both y and z as a string )"
   ]
  },
  {
   "cell_type": "code",
   "execution_count": null,
   "metadata": {},
   "outputs": [],
   "source": [
    "y=int(input())\n",
    "z=int(input())\n",
    "print(y+z)"
   ]
  },
  {
   "cell_type": "code",
   "execution_count": null,
   "metadata": {},
   "outputs": [],
   "source": [
    "# next to read multiple files from the keyboard\n",
    "a,b,z,y=[int(x) for x in input(\"enter number:\").split()]\n",
    "print(a*b*z**y)"
   ]
  },
  {
   "cell_type": "code",
   "execution_count": 2,
   "metadata": {},
   "outputs": [
    {
     "name": "stdout",
     "output_type": "stream",
     "text": [
      "enter number:10 20 3 2\n",
      "1800\n"
     ]
    }
   ],
   "source": [
    "# next to read multiple files from the keyboard\n",
    "a,b,z,y=[int(x) for x in input(\"enter number:\").split()]\n",
    "print(a*b*(z**y))"
   ]
  },
  {
   "cell_type": "code",
   "execution_count": 2,
   "metadata": {},
   "outputs": [
    {
     "name": "stdout",
     "output_type": "stream",
     "text": [
      "10*5/2.5+12-13\n",
      "8.0\n",
      "19.0\n"
     ]
    }
   ],
   "source": [
    "# eval() -> this function takes equations as a string and evaluates it and provides output.\n",
    "x=eval(\"10/5*2.5+3\")\n",
    "y=eval(input())\n",
    "print(x)\n",
    "print(y)"
   ]
  },
  {
   "cell_type": "code",
   "execution_count": 3,
   "metadata": {},
   "outputs": [],
   "source": [
    "# 1) %i  int \n",
    "# 2) %d  int \n",
    "# 3) %f  float\n",
    "# 4) %s  String type"
   ]
  },
  {
   "cell_type": "code",
   "execution_count": 8,
   "metadata": {},
   "outputs": [
    {
     "name": "stdout",
     "output_type": "stream",
     "text": [
      "my name is sagar and my age is 22\n",
      "my name is sagar and my age is 22\n"
     ]
    }
   ],
   "source": [
    "# we can also use {} to define vaiables wgile printing the data\n",
    "name =\"sagar\"\n",
    "age=22\n",
    "print(\"my name is {name} and my age is {age}\" .format(name=name, age=age))\n",
    "# or\n",
    "print(\"my name is {0} and my age is {1}\" .format(name, age))\n"
   ]
  },
  {
   "cell_type": "code",
   "execution_count": 9,
   "metadata": {},
   "outputs": [],
   "source": [
    "# control flow\n",
    "# 1.Conditional statement - if, if-elif,if-elif-else Note: switch statment is not applicable for python\n",
    "# transfer sttement- break, continue, pass\n",
    "# iterative statements- for while\n"
   ]
  },
  {
   "cell_type": "code",
   "execution_count": 12,
   "metadata": {},
   "outputs": [
    {
     "name": "stdout",
     "output_type": "stream",
     "text": [
      "enter number:11\n",
      "11 is a odd number\n"
     ]
    }
   ],
   "source": [
    "# condition statement\n",
    "number= int(input(\"enter number:\"))\n",
    "if number%2==0:\n",
    "    print(\"{0} is a even number \".format(number))\n",
    "else:\n",
    "    print(\"%d is a odd number\" %number)"
   ]
  },
  {
   "cell_type": "code",
   "execution_count": null,
   "metadata": {},
   "outputs": [],
   "source": []
  }
 ],
 "metadata": {
  "kernelspec": {
   "display_name": "Python 3",
   "language": "python",
   "name": "python3"
  },
  "language_info": {
   "codemirror_mode": {
    "name": "ipython",
    "version": 3
   },
   "file_extension": ".py",
   "mimetype": "text/x-python",
   "name": "python",
   "nbconvert_exporter": "python",
   "pygments_lexer": "ipython3",
   "version": "3.7.6"
  }
 },
 "nbformat": 4,
 "nbformat_minor": 4
}

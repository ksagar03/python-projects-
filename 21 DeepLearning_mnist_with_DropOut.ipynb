{
 "cells": [
  {
   "cell_type": "code",
   "execution_count": 9,
   "metadata": {
    "id": "aZWWIeI8YQX6"
   },
   "outputs": [],
   "source": [
    "import pandas\n",
    "import matplotlib.pyplot as plt\n",
    "import numpy as np\n"
   ]
  },
  {
   "cell_type": "code",
   "execution_count": 10,
   "metadata": {
    "id": "rX-w_hGyY_33"
   },
   "outputs": [],
   "source": [
    "from tensorflow.keras.datasets import mnist\n",
    "from tensorflow.keras.layers import Dense, Dropout, Flatten\n",
    "from tensorflow.keras.models import Sequential\n",
    "from tensorflow.keras.utils import to_categorical, normalize\n",
    "from sklearn.preprocessing import OneHotEncoder"
   ]
  },
  {
   "cell_type": "code",
   "execution_count": 11,
   "metadata": {
    "id": "39XZJueOnrIG"
   },
   "outputs": [],
   "source": [
    "from tensorflow.keras.datasets import mnist\n",
    "from tensorflow.keras.utils import to_categorical, normalize"
   ]
  },
  {
   "cell_type": "code",
   "execution_count": 12,
   "metadata": {
    "id": "zt16uSdbaGDH"
   },
   "outputs": [],
   "source": [
    "(trainX, trainY), (testX, testY) = mnist.load_data()"
   ]
  },
  {
   "cell_type": "code",
   "execution_count": null,
   "metadata": {},
   "outputs": [],
   "source": []
  },
  {
   "cell_type": "code",
   "execution_count": null,
   "metadata": {
    "colab": {
     "base_uri": "https://localhost:8080/",
     "height": 34
    },
    "id": "udnbHgNMarAX",
    "outputId": "79daa935-ce75-420c-d388-b6322ee24ba1"
   },
   "outputs": [
    {
     "data": {
      "text/plain": [
       "(60000, 28, 28)"
      ]
     },
     "execution_count": 21,
     "metadata": {
      "tags": []
     },
     "output_type": "execute_result"
    }
   ],
   "source": [
    "trainX.shape"
   ]
  },
  {
   "cell_type": "code",
   "execution_count": null,
   "metadata": {
    "colab": {
     "base_uri": "https://localhost:8080/",
     "height": 248
    },
    "id": "jDo_vPAea74Z",
    "outputId": "c0fbbece-6407-41b6-b28b-d47471de3c8e"
   },
   "outputs": [
    {
     "data": {
      "image/png": "[encoded data removed]",
      "text/plain": [
       "<Figure size 432x288 with 1 Axes>"
      ]
     },
     "metadata": {
      "needs_background": "light",
      "tags": []
     },
     "output_type": "display_data"
    }
   ],
   "source": [
    "some_digit = trainX[0]\n",
    "plt.imshow(some_digit, cmap=plt.cm.binary)\n",
    "plt.axis(\"off\")\n",
    "plt.show()"
   ]
  },
  {
   "cell_type": "code",
   "execution_count": null,
   "metadata": {
    "id": "QcdgAqBIbDeo"
   },
   "outputs": [],
   "source": [
    "## Preprocessing Your Data"
   ]
  },
  {
   "cell_type": "code",
   "execution_count": 15,
   "metadata": {
    "id": "LMjAJFfmbRaT"
   },
   "outputs": [],
   "source": [
    "trainX = normalize(trainX)\n",
    "testX = normalize(testX)"
   ]
  },
  {
   "cell_type": "code",
   "execution_count": null,
   "metadata": {
    "id": "PAT7PoFScI5K"
   },
   "outputs": [],
   "source": [
    "trainY = to_categorical(trainY)\n",
    "testY = to_categorical(testY)"
   ]
  },
  {
   "cell_type": "code",
   "execution_count": null,
   "metadata": {
    "id": "kgx4yJQycbyj"
   },
   "outputs": [],
   "source": [
    "#### WithOut DropOut"
   ]
  },
  {
   "cell_type": "code",
   "execution_count": null,
   "metadata": {
    "id": "-nvmjdu0cdWH"
   },
   "outputs": [],
   "source": [
    "model = Sequential()\n",
    "model.add(Flatten(input_shape = (28, 28)))\n",
    "model.add(Dense(784, activation=\"relu\"))\n",
    "model.add(Dense(10, activation=\"softmax\"))"
   ]
  },
  {
   "cell_type": "code",
   "execution_count": null,
   "metadata": {
    "id": "SRoJE9BCe4my"
   },
   "outputs": [],
   "source": []
  },
  {
   "cell_type": "code",
   "execution_count": null,
   "metadata": {
    "colab": {
     "base_uri": "https://localhost:8080/",
     "height": 255
    },
    "id": "K6tKPwJMdawf",
    "outputId": "51e1f686-a125-4dc3-fe35-37fc941bea83"
   },
   "outputs": [
    {
     "name": "stdout",
     "output_type": "stream",
     "text": [
      "Model: \"sequential_3\"\n",
      "_________________________________________________________________\n",
      "Layer (type)                 Output Shape              Param #   \n",
      "=================================================================\n",
      "flatten_1 (Flatten)          (None, 784)               0         \n",
      "_________________________________________________________________\n",
      "dense_2 (Dense)              (None, 784)               615440    \n",
      "_________________________________________________________________\n",
      "dense_3 (Dense)              (None, 10)                7850      \n",
      "=================================================================\n",
      "Total params: 623,290\n",
      "Trainable params: 623,290\n",
      "Non-trainable params: 0\n",
      "_________________________________________________________________\n"
     ]
    }
   ],
   "source": [
    "model.summary()"
   ]
  },
  {
   "cell_type": "code",
   "execution_count": null,
   "metadata": {
    "id": "eeQOPPbneISD"
   },
   "outputs": [],
   "source": [
    "model.compile(loss=\"categorical_crossentropy\", optimizer=\"adam\", metrics=[\"accuracy\"])"
   ]
  },
  {
   "cell_type": "code",
   "execution_count": null,
   "metadata": {
    "colab": {
     "base_uri": "https://localhost:8080/",
     "height": 357
    },
    "id": "3zmMn8LPfRb2",
    "outputId": "33395f5e-13e8-40f7-b72f-12d16e063bba"
   },
   "outputs": [
    {
     "name": "stdout",
     "output_type": "stream",
     "text": [
      "Epoch 1/10\n",
      "960/960 [==============================] - 2s 3ms/step - loss: 0.2652 - accuracy: 0.9231 - val_loss: 0.1261 - val_accuracy: 0.9628\n",
      "Epoch 2/10\n",
      "960/960 [==============================] - 2s 2ms/step - loss: 0.1042 - accuracy: 0.9683 - val_loss: 0.0944 - val_accuracy: 0.9722\n",
      "Epoch 3/10\n",
      "960/960 [==============================] - 2s 2ms/step - loss: 0.0677 - accuracy: 0.9790 - val_loss: 0.0874 - val_accuracy: 0.9730\n",
      "Epoch 4/10\n",
      "960/960 [==============================] - 2s 2ms/step - loss: 0.0481 - accuracy: 0.9851 - val_loss: 0.0782 - val_accuracy: 0.9759\n",
      "Epoch 5/10\n",
      "960/960 [==============================] - 2s 2ms/step - loss: 0.0326 - accuracy: 0.9902 - val_loss: 0.0868 - val_accuracy: 0.9738\n",
      "Epoch 6/10\n",
      "960/960 [==============================] - 2s 2ms/step - loss: 0.0254 - accuracy: 0.9927 - val_loss: 0.0829 - val_accuracy: 0.9763\n",
      "Epoch 7/10\n",
      "960/960 [==============================] - 2s 2ms/step - loss: 0.0182 - accuracy: 0.9948 - val_loss: 0.0900 - val_accuracy: 0.9751\n",
      "Epoch 8/10\n",
      "960/960 [==============================] - 2s 2ms/step - loss: 0.0140 - accuracy: 0.9960 - val_loss: 0.0914 - val_accuracy: 0.9760\n",
      "Epoch 9/10\n",
      "960/960 [==============================] - 2s 2ms/step - loss: 0.0103 - accuracy: 0.9972 - val_loss: 0.0952 - val_accuracy: 0.9762\n",
      "Epoch 10/10\n",
      "960/960 [==============================] - 2s 2ms/step - loss: 0.0098 - accuracy: 0.9971 - val_loss: 0.0942 - val_accuracy: 0.9769\n"
     ]
    }
   ],
   "source": [
    "H = model.fit(trainX, trainY, epochs=10, batch_size=50, validation_split=0.2)"
   ]
  },
  {
   "cell_type": "code",
   "execution_count": null,
   "metadata": {
    "colab": {
     "base_uri": "https://localhost:8080/",
     "height": 697
    },
    "id": "HDFMf7d4fcZ_",
    "outputId": "0306e455-15fd-43e3-a7eb-e39e7b25dd85"
   },
   "outputs": [
    {
     "data": {
      "text/plain": [
       "{'accuracy': [0.9230833053588867,\n",
       "  0.9682916402816772,\n",
       "  0.9789583086967468,\n",
       "  0.9850624799728394,\n",
       "  0.9901666641235352,\n",
       "  0.9927291870117188,\n",
       "  0.9947500228881836,\n",
       "  0.9960208535194397,\n",
       "  0.9971666932106018,\n",
       "  0.9971458315849304],\n",
       " 'loss': [0.26516208052635193,\n",
       "  0.10419772565364838,\n",
       "  0.06773335486650467,\n",
       "  0.048100147396326065,\n",
       "  0.0326056033372879,\n",
       "  0.02536490187048912,\n",
       "  0.01816646009683609,\n",
       "  0.013993436470627785,\n",
       "  0.010263124480843544,\n",
       "  0.009844454005360603],\n",
       " 'val_accuracy': [0.9627500176429749,\n",
       "  0.9722499847412109,\n",
       "  0.9729999899864197,\n",
       "  0.9759166836738586,\n",
       "  0.9738333225250244,\n",
       "  0.9763333201408386,\n",
       "  0.9750833511352539,\n",
       "  0.9760000109672546,\n",
       "  0.9762499928474426,\n",
       "  0.9769166707992554],\n",
       " 'val_loss': [0.12609589099884033,\n",
       "  0.09439702332019806,\n",
       "  0.08736087381839752,\n",
       "  0.07821378111839294,\n",
       "  0.0867810770869255,\n",
       "  0.08286037296056747,\n",
       "  0.09001114219427109,\n",
       "  0.09139475226402283,\n",
       "  0.09522636234760284,\n",
       "  0.09416399151086807]}"
      ]
     },
     "execution_count": 34,
     "metadata": {
      "tags": []
     },
     "output_type": "execute_result"
    }
   ],
   "source": [
    "H.history\n"
   ]
  },
  {
   "cell_type": "code",
   "execution_count": null,
   "metadata": {
    "id": "QXqM2lcZfrm7"
   },
   "outputs": [],
   "source": [
    "acc = H.history[\"accuracy\"]\n",
    "val_acc = H.history[\"val_accuracy\"]\n",
    "loss = H.history[\"loss\"]\n",
    "val_loss = H.history[\"val_loss\"]\n",
    "n = np.arange(1,11)"
   ]
  },
  {
   "cell_type": "code",
   "execution_count": null,
   "metadata": {
    "colab": {
     "base_uri": "https://localhost:8080/",
     "height": 265
    },
    "id": "1phAiHlef5uO",
    "outputId": "3da85bbf-5518-4841-834d-4ac481cb8475"
   },
   "outputs": [
    {
     "data": {
      "image/png": "[encoded data removed]",
      "text/plain": [
       "<Figure size 432x288 with 1 Axes>"
      ]
     },
     "metadata": {
      "needs_background": "light",
      "tags": []
     },
     "output_type": "display_data"
    }
   ],
   "source": [
    "plt.plot(n, loss, label = \"Training Loss\")\n",
    "plt.plot(n, val_loss, label = \"Val Loss\")\n",
    "plt.legend()\n",
    "plt.show()"
   ]
  },
  {
   "cell_type": "code",
   "execution_count": null,
   "metadata": {
    "colab": {
     "base_uri": "https://localhost:8080/",
     "height": 267
    },
    "id": "2VYfWpU9gIys",
    "outputId": "0a8b56c5-eaa7-4832-aea1-87da852e335b"
   },
   "outputs": [
    {
     "data": {
      "image/png": "[encoded data removed]",
      "text/plain": [
       "<Figure size 432x288 with 1 Axes>"
      ]
     },
     "metadata": {
      "needs_background": "light",
      "tags": []
     },
     "output_type": "display_data"
    }
   ],
   "source": [
    "plt.plot(n, acc, label = \"Training Acc\")\n",
    "plt.plot(n, val_acc, label = \"Val acc\")\n",
    "plt.legend()\n",
    "plt.show()"
   ]
  },
  {
   "cell_type": "code",
   "execution_count": null,
   "metadata": {
    "id": "R7VewTqkgWGk"
   },
   "outputs": [],
   "source": [
    "### Dropout Layer Network"
   ]
  },
  {
   "cell_type": "code",
   "execution_count": null,
   "metadata": {
    "id": "pFpc5z4dhUld"
   },
   "outputs": [],
   "source": [
    "model = Sequential()"
   ]
  },
  {
   "cell_type": "code",
   "execution_count": null,
   "metadata": {
    "id": "qjNmNISJhW-P"
   },
   "outputs": [],
   "source": [
    "model.add(Flatten(input_shape = (28, 28)))\n",
    "model.add(Dense(784, activation=\"relu\"))\n",
    "model.add(Dropout(0.4))\n",
    "model.add(Dense(130, activation=\"relu\"))\n",
    "model.add(Dropout(0.4))\n",
    "\n",
    "##o/p layer\n",
    "model.add(Dense(10, activation=\"softmax\"))\n",
    "\n"
   ]
  },
  {
   "cell_type": "code",
   "execution_count": null,
   "metadata": {
    "colab": {
     "base_uri": "https://localhost:8080/",
     "height": 357
    },
    "id": "n1VcxQvWh3Yd",
    "outputId": "fa7d897c-124f-4163-9044-b87e7bc66a2d"
   },
   "outputs": [
    {
     "name": "stdout",
     "output_type": "stream",
     "text": [
      "Epoch 1/10\n",
      "960/960 [==============================] - 2s 3ms/step - loss: 0.4031 - accuracy: 0.8765 - val_loss: 0.1416 - val_accuracy: 0.9567\n",
      "Epoch 2/10\n",
      "960/960 [==============================] - 2s 2ms/step - loss: 0.1902 - accuracy: 0.9434 - val_loss: 0.1099 - val_accuracy: 0.9661\n",
      "Epoch 3/10\n",
      "960/960 [==============================] - 3s 3ms/step - loss: 0.1506 - accuracy: 0.9548 - val_loss: 0.0971 - val_accuracy: 0.9710\n",
      "Epoch 4/10\n",
      "960/960 [==============================] - 2s 2ms/step - loss: 0.1267 - accuracy: 0.9616 - val_loss: 0.0906 - val_accuracy: 0.9732\n",
      "Epoch 5/10\n",
      "960/960 [==============================] - 2s 2ms/step - loss: 0.1127 - accuracy: 0.9656 - val_loss: 0.0869 - val_accuracy: 0.9729\n",
      "Epoch 6/10\n",
      "960/960 [==============================] - 2s 3ms/step - loss: 0.1048 - accuracy: 0.9680 - val_loss: 0.0808 - val_accuracy: 0.9757\n",
      "Epoch 7/10\n",
      "960/960 [==============================] - 3s 3ms/step - loss: 0.0916 - accuracy: 0.9723 - val_loss: 0.0833 - val_accuracy: 0.9764\n",
      "Epoch 8/10\n",
      "960/960 [==============================] - 2s 3ms/step - loss: 0.0851 - accuracy: 0.9746 - val_loss: 0.0862 - val_accuracy: 0.9768\n",
      "Epoch 9/10\n",
      "960/960 [==============================] - 2s 2ms/step - loss: 0.0799 - accuracy: 0.9758 - val_loss: 0.0825 - val_accuracy: 0.9757\n",
      "Epoch 10/10\n",
      "960/960 [==============================] - 2s 3ms/step - loss: 0.0737 - accuracy: 0.9775 - val_loss: 0.0797 - val_accuracy: 0.9782\n"
     ]
    }
   ],
   "source": [
    "model.compile(loss=\"categorical_crossentropy\", optimizer=\"adam\", metrics=[\"accuracy\"])\n",
    "H = model.fit(trainX, trainY, epochs=10, batch_size=50, validation_split=0.2)"
   ]
  },
  {
   "cell_type": "code",
   "execution_count": null,
   "metadata": {
    "id": "-QMR8CCwh_5L"
   },
   "outputs": [],
   "source": [
    "acc = H.history[\"accuracy\"]\n",
    "val_acc = H.history[\"val_accuracy\"]\n",
    "loss = H.history[\"loss\"]\n",
    "val_loss = H.history[\"val_loss\"]\n",
    "n = np.arange(1,11)"
   ]
  },
  {
   "cell_type": "code",
   "execution_count": null,
   "metadata": {
    "colab": {
     "base_uri": "https://localhost:8080/",
     "height": 265
    },
    "id": "r9J9609CiHWs",
    "outputId": "26c6b6b0-b49c-4e9b-8c7e-8fd69d84fb94"
   },
   "outputs": [
    {
     "data": {
      "image/png": "[encoded data removed]",
      "text/plain": [
       "<Figure size 432x288 with 1 Axes>"
      ]
     },
     "metadata": {
      "needs_background": "light",
      "tags": []
     },
     "output_type": "display_data"
    }
   ],
   "source": [
    "plt.plot(n, loss, label = \"Training Loss\")\n",
    "plt.plot(n, val_loss, label = \"Val Loss\")\n",
    "plt.legend()\n",
    "plt.show()"
   ]
  },
  {
   "cell_type": "code",
   "execution_count": null,
   "metadata": {
    "colab": {
     "base_uri": "https://localhost:8080/",
     "height": 265
    },
    "id": "61cJ5DwgiJcE",
    "outputId": "22957af7-8616-4171-b19b-cf7c80df9f79"
   },
   "outputs": [
    {
     "data": {
      "image/png": "[encoded data removed]",
      "text/plain": [
       "<Figure size 432x288 with 1 Axes>"
      ]
     },
     "metadata": {
      "needs_background": "light",
      "tags": []
     },
     "output_type": "display_data"
    }
   ],
   "source": [
    "plt.plot(n, acc, label = \"Training Acc\")\n",
    "plt.plot(n, val_acc, label = \"Val acc\")\n",
    "plt.legend()\n",
    "plt.show()"
   ]
  },
  {
   "cell_type": "code",
   "execution_count": null,
   "metadata": {
    "colab": {
     "base_uri": "https://localhost:8080/",
     "height": 34
    },
    "id": "j-hCfnSTiMjm",
    "outputId": "c5adb2f9-e921-41c5-f62e-0c6c0e7a146a"
   },
   "outputs": [
    {
     "data": {
      "text/plain": [
       "array([7])"
      ]
     },
     "execution_count": 64,
     "metadata": {
      "tags": []
     },
     "output_type": "execute_result"
    }
   ],
   "source": [
    "model.predict_classes(testX[0:1])"
   ]
  },
  {
   "cell_type": "code",
   "execution_count": null,
   "metadata": {
    "colab": {
     "base_uri": "https://localhost:8080/",
     "height": 34
    },
    "id": "zzMLFGG1lLqy",
    "outputId": "74d09548-2cc0-4dac-d107-ea4279bcd257"
   },
   "outputs": [
    {
     "data": {
      "text/plain": [
       "7"
      ]
     },
     "execution_count": 66,
     "metadata": {
      "tags": []
     },
     "output_type": "execute_result"
    }
   ],
   "source": [
    "testY[0:1].argmax()"
   ]
  },
  {
   "cell_type": "code",
   "execution_count": null,
   "metadata": {
    "id": "ZgZUHMLFlRdZ"
   },
   "outputs": [],
   "source": [
    "model.save(\"mnist_with_dropout.h5\")"
   ]
  },
  {
   "cell_type": "code",
   "execution_count": null,
   "metadata": {
    "colab": {
     "base_uri": "https://localhost:8080/",
     "height": 34
    },
    "id": "rliXSmxUluaP",
    "outputId": "b3be0069-416d-44e5-9645-d771b61cb21a"
   },
   "outputs": [
    {
     "name": "stdout",
     "output_type": "stream",
     "text": [
      "mnist_with_dropout.h5  \u001b[0m\u001b[01;34msample_data\u001b[0m/\n"
     ]
    }
   ],
   "source": [
    "ls"
   ]
  },
  {
   "cell_type": "code",
   "execution_count": null,
   "metadata": {
    "id": "jm_e2fWEmB9t"
   },
   "outputs": [],
   "source": [
    "from google.colab import drive"
   ]
  },
  {
   "cell_type": "code",
   "execution_count": null,
   "metadata": {
    "colab": {
     "base_uri": "https://localhost:8080/",
     "height": 34
    },
    "id": "pKJeShNUmTIQ",
    "outputId": "0dc647ae-b54b-4222-b53e-89cfc0e389c8"
   },
   "outputs": [
    {
     "name": "stdout",
     "output_type": "stream",
     "text": [
      "Mounted at /content/drive\n"
     ]
    }
   ],
   "source": [
    "drive.mount(\"/content/drive\")"
   ]
  },
  {
   "cell_type": "code",
   "execution_count": null,
   "metadata": {
    "colab": {
     "base_uri": "https://localhost:8080/",
     "height": 34
    },
    "id": "uEvbigHsmd81",
    "outputId": "c9bccf9b-e974-43fe-a324-5537d2eea775"
   },
   "outputs": [
    {
     "name": "stdout",
     "output_type": "stream",
     "text": [
      "\u001b[0m\u001b[01;34mdrive\u001b[0m/  mnist_with_dropout.h5  \u001b[01;34msample_data\u001b[0m/\n"
     ]
    }
   ],
   "source": [
    "ls"
   ]
  },
  {
   "cell_type": "code",
   "execution_count": null,
   "metadata": {
    "colab": {
     "base_uri": "https://localhost:8080/",
     "height": 34
    },
    "id": "Fbbebu9WmruB",
    "outputId": "3a2da2c0-9768-4c0c-ea5d-056e0a395213"
   },
   "outputs": [
    {
     "name": "stdout",
     "output_type": "stream",
     "text": [
      "/content/drive\n"
     ]
    }
   ],
   "source": [
    "cd drive/"
   ]
  },
  {
   "cell_type": "code",
   "execution_count": null,
   "metadata": {
    "colab": {
     "base_uri": "https://localhost:8080/",
     "height": 34
    },
    "id": "DCGdFMx5mvwZ",
    "outputId": "40bc0e5b-0330-4b51-f529-6c567c2e0eae"
   },
   "outputs": [
    {
     "name": "stdout",
     "output_type": "stream",
     "text": [
      "\u001b[0m\u001b[01;34m'My Drive'\u001b[0m/\n"
     ]
    }
   ],
   "source": [
    "ls"
   ]
  },
  {
   "cell_type": "code",
   "execution_count": null,
   "metadata": {
    "colab": {
     "base_uri": "https://localhost:8080/",
     "height": 34
    },
    "id": "efJZ8bSlmw5v",
    "outputId": "6fe6abc4-91d9-473f-b06b-8021052da9b9"
   },
   "outputs": [
    {
     "name": "stdout",
     "output_type": "stream",
     "text": [
      "/content/drive/My Drive\n"
     ]
    }
   ],
   "source": [
    "cd My\\ Drive/"
   ]
  },
  {
   "cell_type": "code",
   "execution_count": null,
   "metadata": {
    "id": "fEy0PDlJmzA7"
   },
   "outputs": [],
   "source": [
    "model.save(\"mnist_with_dropout.hdf5\")"
   ]
  },
  {
   "cell_type": "code",
   "execution_count": 1,
   "metadata": {
    "id": "Rrg049Rkm03R"
   },
   "outputs": [],
   "source": [
    "from tensorflow.keras.models import load_model"
   ]
  },
  {
   "cell_type": "code",
   "execution_count": 2,
   "metadata": {
    "id": "-DGRhL_Yn2O7"
   },
   "outputs": [
    {
     "ename": "OSError",
     "evalue": "SavedModel file does not exist at: mnist_with_dropout.h5/{saved_model.pbtxt|saved_model.pb}",
     "output_type": "error",
     "traceback": [
      "\u001b[0;31m---------------------------------------------------------------------------\u001b[0m",
      "\u001b[0;31mOSError\u001b[0m                                   Traceback (most recent call last)",
      "\u001b[0;32m<ipython-input-2-8717d868d48d>\u001b[0m in \u001b[0;36m<module>\u001b[0;34m\u001b[0m\n\u001b[0;32m----> 1\u001b[0;31m \u001b[0mmodel\u001b[0m \u001b[0;34m=\u001b[0m \u001b[0mload_model\u001b[0m\u001b[0;34m(\u001b[0m\u001b[0;34m\"mnist_with_dropout.h5\"\u001b[0m\u001b[0;34m)\u001b[0m\u001b[0;34m\u001b[0m\u001b[0;34m\u001b[0m\u001b[0m\n\u001b[0m",
      "\u001b[0;32m~/opt/anaconda3/lib/python3.7/site-packages/tensorflow/python/keras/saving/save.py\u001b[0m in \u001b[0;36mload_model\u001b[0;34m(filepath, custom_objects, compile)\u001b[0m\n\u001b[1;32m    187\u001b[0m       \u001b[0mfilepath\u001b[0m \u001b[0;34m=\u001b[0m \u001b[0mstr\u001b[0m\u001b[0;34m(\u001b[0m\u001b[0mfilepath\u001b[0m\u001b[0;34m)\u001b[0m\u001b[0;34m\u001b[0m\u001b[0;34m\u001b[0m\u001b[0m\n\u001b[1;32m    188\u001b[0m     \u001b[0;32mif\u001b[0m \u001b[0misinstance\u001b[0m\u001b[0;34m(\u001b[0m\u001b[0mfilepath\u001b[0m\u001b[0;34m,\u001b[0m \u001b[0msix\u001b[0m\u001b[0;34m.\u001b[0m\u001b[0mstring_types\u001b[0m\u001b[0;34m)\u001b[0m\u001b[0;34m:\u001b[0m\u001b[0;34m\u001b[0m\u001b[0;34m\u001b[0m\u001b[0m\n\u001b[0;32m--> 189\u001b[0;31m       \u001b[0mloader_impl\u001b[0m\u001b[0;34m.\u001b[0m\u001b[0mparse_saved_model\u001b[0m\u001b[0;34m(\u001b[0m\u001b[0mfilepath\u001b[0m\u001b[0;34m)\u001b[0m\u001b[0;34m\u001b[0m\u001b[0;34m\u001b[0m\u001b[0m\n\u001b[0m\u001b[1;32m    190\u001b[0m       \u001b[0;32mreturn\u001b[0m \u001b[0msaved_model_load\u001b[0m\u001b[0;34m.\u001b[0m\u001b[0mload\u001b[0m\u001b[0;34m(\u001b[0m\u001b[0mfilepath\u001b[0m\u001b[0;34m,\u001b[0m \u001b[0mcompile\u001b[0m\u001b[0;34m)\u001b[0m\u001b[0;34m\u001b[0m\u001b[0;34m\u001b[0m\u001b[0m\n\u001b[1;32m    191\u001b[0m \u001b[0;34m\u001b[0m\u001b[0m\n",
      "\u001b[0;32m~/opt/anaconda3/lib/python3.7/site-packages/tensorflow/python/saved_model/loader_impl.py\u001b[0m in \u001b[0;36mparse_saved_model\u001b[0;34m(export_dir)\u001b[0m\n\u001b[1;32m    111\u001b[0m                   (export_dir,\n\u001b[1;32m    112\u001b[0m                    \u001b[0mconstants\u001b[0m\u001b[0;34m.\u001b[0m\u001b[0mSAVED_MODEL_FILENAME_PBTXT\u001b[0m\u001b[0;34m,\u001b[0m\u001b[0;34m\u001b[0m\u001b[0;34m\u001b[0m\u001b[0m\n\u001b[0;32m--> 113\u001b[0;31m                    constants.SAVED_MODEL_FILENAME_PB))\n\u001b[0m\u001b[1;32m    114\u001b[0m \u001b[0;34m\u001b[0m\u001b[0m\n\u001b[1;32m    115\u001b[0m \u001b[0;34m\u001b[0m\u001b[0m\n",
      "\u001b[0;31mOSError\u001b[0m: SavedModel file does not exist at: mnist_with_dropout.h5/{saved_model.pbtxt|saved_model.pb}"
     ]
    }
   ],
   "source": [
    "model = load_model(\"mnist_with_dropout.h5\")"
   ]
  },
  {
   "cell_type": "code",
   "execution_count": null,
   "metadata": {
    "colab": {
     "base_uri": "https://localhost:8080/",
     "height": 34
    },
    "id": "tJiVs1WOoJwG",
    "outputId": "718beb10-3013-4791-a99a-d02f75b47beb"
   },
   "outputs": [
    {
     "data": {
      "text/plain": [
       "array([7])"
      ]
     },
     "execution_count": 16,
     "metadata": {
      "tags": []
     },
     "output_type": "execute_result"
    }
   ],
   "source": [
    "model.predict_classes(testX[0:1])"
   ]
  },
  {
   "cell_type": "code",
   "execution_count": 8,
   "metadata": {
    "colab": {
     "base_uri": "https://localhost:8080/",
     "height": 34
    },
    "id": "TmvYC6jloKxi",
    "outputId": "01028122-4d39-49f7-a6dd-af377416ed8e"
   },
   "outputs": [
    {
     "name": "stdout",
     "output_type": "stream",
     "text": [
      "1. Basic Python with NumPy.ipynb\r\n",
      "10. KNN - From Scratch & Play with Hand Written Digits...ipynb\r\n",
      "11. Hand Written Digit Classification.ipynb\r\n",
      "12. Movie Recommendation System .ipynb\r\n",
      "13 Naive Bayes - With Python.ipynb\r\n",
      "14 K-Mean from Scratch with IRIS And MNIST.ipynb\r\n",
      "15 Mall Customer Seg..ipynb\r\n",
      "16 Customer Clustering (K-Means) - RFM.ipynb\r\n",
      "17 DT Algo - TTT Game.ipynb\r\n",
      "18 Basic Deep Learning _ Single Neuron.ipynb\r\n",
      "19 Deep Learning with Wine DataSet.ipynb\r\n",
      "2. Play with Images and CV2.ipynb\r\n",
      "20 Deep Learning - iris data.ipynb\r\n",
      "21 DeepLearning_17Aug_2020_mnist_with_DropOut.ipynb\r\n",
      "3. Data Analytic with Pandas.ipynb\r\n",
      "4. MatplotLib and PlotLy.ipynb\r\n",
      "5. Linear Regression .ipynb\r\n",
      "50_Startups.csv\r\n",
      "6. Face Detection with OpenCv.ipynb\r\n",
      "7. Logistic Regression.ipynb\r\n",
      "8. Play with Browser - Automation.ipynb\r\n",
      "9. Automation of Indeed and Scrape Data for Analysis.ipynb\r\n",
      "Apple_Price.html\r\n",
      "Apple_Price2.html\r\n",
      "Calculator.py\r\n",
      "College.csv\r\n",
      "Day 18 Basic Topics for Deep Learning.ipynb\r\n",
      "Demo.csv\r\n",
      "DjD.jpeg\r\n",
      "Full Stack Development Course with React and Djang\r\n",
      "HR_comma_sep.csv\r\n",
      "Height_weight.csv\r\n",
      "Icon?\r\n",
      "\u001b[34mImages\u001b[m\u001b[m/\r\n",
      "MachineLearningJobs.csv\r\n",
      "Mall_Customers.csv\r\n",
      "My_First_Cluster.csv\r\n",
      "My_Second_Cluster.csv\r\n",
      "My_Zero_Cluster.csv\r\n",
      "Neighbors.py\r\n",
      "Online Retail.csv\r\n",
      "React1.jpeg\r\n",
      "ReactJs.jpeg\r\n",
      "Real estate.csv\r\n",
      "Sale.csv\r\n",
      "YearVsProfit.png\r\n",
      "\u001b[34m__pycache__\u001b[m\u001b[m/\r\n",
      "ai.csv\r\n",
      "appointment.csv\r\n",
      "\u001b[31mchromedriver\u001b[m\u001b[m*\r\n",
      "chromedriver_mac64.zip\r\n",
      "dJ.jpeg\r\n",
      "data.csv\r\n",
      "data_analyst.csv\r\n",
      "datascience2.csv\r\n",
      "diabetes.csv\r\n",
      "haarcascade_frontalface_default.xml\r\n",
      "headbrain.csv\r\n",
      "housing.csv\r\n",
      "ii2.jpeg\r\n",
      "indian.jpg\r\n",
      "insurance.csv\r\n",
      "iris.csv\r\n",
      "loan_approve_or_not.pkl\r\n",
      "loan_prediction_by_logistic_regression.py\r\n",
      "loanf.csv\r\n",
      "logo.png\r\n",
      "machinelearning.csv\r\n",
      "movies.csv\r\n",
      "myImage.jpg\r\n",
      "nba.csv\r\n",
      "nyc_weather.csv\r\n",
      "openImage.py\r\n",
      "ratings.csv\r\n",
      "student_scores.csv\r\n",
      "temp-plot.html\r\n",
      "tic-tac-toe-endgame.csv\r\n"
     ]
    }
   ],
   "source": [
    "ls"
   ]
  },
  {
   "cell_type": "markdown",
   "metadata": {
    "id": "l5ThlIU9pHCU"
   },
   "source": [
    "### **Save Your Best Model Durinng Training Time**"
   ]
  },
  {
   "cell_type": "code",
   "execution_count": null,
   "metadata": {
    "id": "a4UnxmOSp9nO"
   },
   "outputs": [],
   "source": [
    "from tensorflow.keras.callbacks import ModelCheckpoint"
   ]
  },
  {
   "cell_type": "code",
   "execution_count": null,
   "metadata": {
    "colab": {
     "base_uri": "https://localhost:8080/",
     "height": 34
    },
    "id": "Hjq_55XhqF7w",
    "outputId": "0c84e1fd-2a42-4d9e-a382-128f4366cb18"
   },
   "outputs": [
    {
     "name": "stdout",
     "output_type": "stream",
     "text": [
      "WARNING:tensorflow:ModelCheckpoint mode <built-in function max> is unknown, fallback to auto mode.\n"
     ]
    }
   ],
   "source": [
    "#file_path = \"mnist_best_model.hdf5\"\n",
    "file_path = \"mnist_best_model-{epoch:02d}--{val_accuracy:.2f}.hdf5\"\n",
    "checkPoint = ModelCheckpoint(file_path, monitor=\"val_accuracy\",  save_best_only=True, mode = max)"
   ]
  },
  {
   "cell_type": "code",
   "execution_count": null,
   "metadata": {
    "colab": {
     "base_uri": "https://localhost:8080/",
     "height": 357
    },
    "id": "tuA1LTDPpPmy",
    "outputId": "dd001eba-8f3e-4dcc-822b-9d515e875a78"
   },
   "outputs": [
    {
     "name": "stdout",
     "output_type": "stream",
     "text": [
      "Epoch 1/10\n",
      "960/960 [==============================] - 3s 3ms/step - loss: 0.3478 - accuracy: 0.8945 - val_loss: 0.1375 - val_accuracy: 0.9588\n",
      "Epoch 2/10\n",
      "960/960 [==============================] - 3s 3ms/step - loss: 0.1591 - accuracy: 0.9533 - val_loss: 0.1032 - val_accuracy: 0.9682\n",
      "Epoch 3/10\n",
      "960/960 [==============================] - 3s 3ms/step - loss: 0.1210 - accuracy: 0.9640 - val_loss: 0.0930 - val_accuracy: 0.9709\n",
      "Epoch 4/10\n",
      "960/960 [==============================] - 3s 3ms/step - loss: 0.0985 - accuracy: 0.9704 - val_loss: 0.0844 - val_accuracy: 0.9747\n",
      "Epoch 5/10\n",
      "960/960 [==============================] - 2s 3ms/step - loss: 0.0833 - accuracy: 0.9745 - val_loss: 0.0855 - val_accuracy: 0.9758\n",
      "Epoch 6/10\n",
      "960/960 [==============================] - 2s 3ms/step - loss: 0.0727 - accuracy: 0.9773 - val_loss: 0.0800 - val_accuracy: 0.9773\n",
      "Epoch 7/10\n",
      "960/960 [==============================] - 2s 3ms/step - loss: 0.0683 - accuracy: 0.9784 - val_loss: 0.0798 - val_accuracy: 0.9762\n",
      "Epoch 8/10\n",
      "960/960 [==============================] - 2s 3ms/step - loss: 0.0594 - accuracy: 0.9801 - val_loss: 0.0804 - val_accuracy: 0.9763\n",
      "Epoch 9/10\n",
      "960/960 [==============================] - 3s 3ms/step - loss: 0.0587 - accuracy: 0.9816 - val_loss: 0.0741 - val_accuracy: 0.9796\n",
      "Epoch 10/10\n",
      "960/960 [==============================] - 2s 3ms/step - loss: 0.0513 - accuracy: 0.9837 - val_loss: 0.0797 - val_accuracy: 0.9785\n"
     ]
    }
   ],
   "source": [
    "model = Sequential()\n",
    "model.add(Flatten(input_shape = (28, 28)))\n",
    "model.add(Dense(784, activation=\"relu\"))\n",
    "model.add(Dropout(0.4))\n",
    "model.add(Dense(130, activation=\"relu\"))\n",
    "model.add(Dropout(0.4))\n",
    "\n",
    "##o/p layer\n",
    "model.add(Dense(10, activation=\"softmax\"))\n",
    "\n",
    "model.compile(loss=\"categorical_crossentropy\", optimizer=\"adam\", metrics=[\"accuracy\"])\n",
    "H = model.fit(trainX, trainY, epochs=10, batch_size=50, validation_split=0.2, callbacks=[checkPoint])"
   ]
  },
  {
   "cell_type": "code",
   "execution_count": null,
   "metadata": {
    "colab": {
     "base_uri": "https://localhost:8080/",
     "height": 136
    },
    "id": "2fwTsZfprI4e",
    "outputId": "93980897-eace-42e5-aa2d-9c35705d0b26"
   },
   "outputs": [
    {
     "name": "stdout",
     "output_type": "stream",
     "text": [
      "\u001b[0m\u001b[01;34mdrive\u001b[0m/                          mnist_best_model-07--0.98.hdf5\n",
      "mnist_best_model-01--0.96.hdf5  mnist_best_model-08--0.98.hdf5\n",
      "mnist_best_model-02--0.97.hdf5  mnist_best_model-09--0.98.hdf5\n",
      "mnist_best_model-03--0.97.hdf5  mnist_best_model.hdf5\n",
      "mnist_best_model-04--0.97.hdf5  mnist_with_dropout.h5\n",
      "mnist_best_model-05--0.98.hdf5  mnist_with_dropout.hdf5\n",
      "mnist_best_model-06--0.98.hdf5  \u001b[01;34msample_data\u001b[0m/\n"
     ]
    }
   ],
   "source": [
    "ls"
   ]
  },
  {
   "cell_type": "code",
   "execution_count": 18,
   "metadata": {
    "id": "qp5SXIPSrRnE"
   },
   "outputs": [
    {
     "data": {
      "text/plain": [
       "615440"
      ]
     },
     "execution_count": 18,
     "metadata": {},
     "output_type": "execute_result"
    }
   ],
   "source": [
    "### train your model with pre_trained_model\n",
    "(784 * 784) + 784"
   ]
  },
  {
   "cell_type": "code",
   "execution_count": 7,
   "metadata": {
    "id": "S84h3ZrNsszB",
    "scrolled": true
   },
   "outputs": [
    {
     "ename": "OSError",
     "evalue": "Unable to open file (unable to open file: name = 'mnist_best_model.hdf5', errno = 2, error message = 'No such file or directory', flags = 0, o_flags = 0)",
     "output_type": "error",
     "traceback": [
      "\u001b[0;31m---------------------------------------------------------------------------\u001b[0m",
      "\u001b[0;31mOSError\u001b[0m                                   Traceback (most recent call last)",
      "\u001b[0;32m<ipython-input-7-a2b959dd2979>\u001b[0m in \u001b[0;36m<module>\u001b[0;34m\u001b[0m\n\u001b[1;32m     10\u001b[0m \u001b[0;34m\u001b[0m\u001b[0m\n\u001b[1;32m     11\u001b[0m \u001b[0mmodel\u001b[0m\u001b[0;34m.\u001b[0m\u001b[0mcompile\u001b[0m\u001b[0;34m(\u001b[0m\u001b[0mloss\u001b[0m\u001b[0;34m=\u001b[0m\u001b[0;34m\"categorical_crossentropy\"\u001b[0m\u001b[0;34m,\u001b[0m \u001b[0moptimizer\u001b[0m\u001b[0;34m=\u001b[0m\u001b[0;34m\"adam\"\u001b[0m\u001b[0;34m,\u001b[0m \u001b[0mmetrics\u001b[0m\u001b[0;34m=\u001b[0m\u001b[0;34m[\u001b[0m\u001b[0;34m\"accuracy\"\u001b[0m\u001b[0;34m]\u001b[0m\u001b[0;34m)\u001b[0m\u001b[0;34m\u001b[0m\u001b[0;34m\u001b[0m\u001b[0m\n\u001b[0;32m---> 12\u001b[0;31m \u001b[0mmodel\u001b[0m\u001b[0;34m.\u001b[0m\u001b[0mload_weights\u001b[0m\u001b[0;34m(\u001b[0m\u001b[0;34m\"mnist_best_model.hdf5\"\u001b[0m\u001b[0;34m)\u001b[0m\u001b[0;34m\u001b[0m\u001b[0;34m\u001b[0m\u001b[0m\n\u001b[0m\u001b[1;32m     13\u001b[0m \u001b[0;31m#H = model.fit(trainX, trainY, epochs=10, batch_size=50, validation_split=0.2, callbacks=[checkPoint])\u001b[0m\u001b[0;34m\u001b[0m\u001b[0;34m\u001b[0m\u001b[0;34m\u001b[0m\u001b[0m\n",
      "\u001b[0;32m~/opt/anaconda3/lib/python3.7/site-packages/tensorflow/python/keras/engine/training.py\u001b[0m in \u001b[0;36mload_weights\u001b[0;34m(self, filepath, by_name, skip_mismatch)\u001b[0m\n\u001b[1;32m    248\u001b[0m         raise ValueError('Load weights is not yet supported with TPUStrategy '\n\u001b[1;32m    249\u001b[0m                          'with steps_per_run greater than 1.')\n\u001b[0;32m--> 250\u001b[0;31m     \u001b[0;32mreturn\u001b[0m \u001b[0msuper\u001b[0m\u001b[0;34m(\u001b[0m\u001b[0mModel\u001b[0m\u001b[0;34m,\u001b[0m \u001b[0mself\u001b[0m\u001b[0;34m)\u001b[0m\u001b[0;34m.\u001b[0m\u001b[0mload_weights\u001b[0m\u001b[0;34m(\u001b[0m\u001b[0mfilepath\u001b[0m\u001b[0;34m,\u001b[0m \u001b[0mby_name\u001b[0m\u001b[0;34m,\u001b[0m \u001b[0mskip_mismatch\u001b[0m\u001b[0;34m)\u001b[0m\u001b[0;34m\u001b[0m\u001b[0;34m\u001b[0m\u001b[0m\n\u001b[0m\u001b[1;32m    251\u001b[0m \u001b[0;34m\u001b[0m\u001b[0m\n\u001b[1;32m    252\u001b[0m   def compile(self,\n",
      "\u001b[0;32m~/opt/anaconda3/lib/python3.7/site-packages/tensorflow/python/keras/engine/network.py\u001b[0m in \u001b[0;36mload_weights\u001b[0;34m(self, filepath, by_name, skip_mismatch)\u001b[0m\n\u001b[1;32m   1257\u001b[0m           'first, then load the weights.')\n\u001b[1;32m   1258\u001b[0m     \u001b[0mself\u001b[0m\u001b[0;34m.\u001b[0m\u001b[0m_assert_weights_created\u001b[0m\u001b[0;34m(\u001b[0m\u001b[0;34m)\u001b[0m\u001b[0;34m\u001b[0m\u001b[0;34m\u001b[0m\u001b[0m\n\u001b[0;32m-> 1259\u001b[0;31m     \u001b[0;32mwith\u001b[0m \u001b[0mh5py\u001b[0m\u001b[0;34m.\u001b[0m\u001b[0mFile\u001b[0m\u001b[0;34m(\u001b[0m\u001b[0mfilepath\u001b[0m\u001b[0;34m,\u001b[0m \u001b[0;34m'r'\u001b[0m\u001b[0;34m)\u001b[0m \u001b[0;32mas\u001b[0m \u001b[0mf\u001b[0m\u001b[0;34m:\u001b[0m\u001b[0;34m\u001b[0m\u001b[0;34m\u001b[0m\u001b[0m\n\u001b[0m\u001b[1;32m   1260\u001b[0m       \u001b[0;32mif\u001b[0m \u001b[0;34m'layer_names'\u001b[0m \u001b[0;32mnot\u001b[0m \u001b[0;32min\u001b[0m \u001b[0mf\u001b[0m\u001b[0;34m.\u001b[0m\u001b[0mattrs\u001b[0m \u001b[0;32mand\u001b[0m \u001b[0;34m'model_weights'\u001b[0m \u001b[0;32min\u001b[0m \u001b[0mf\u001b[0m\u001b[0;34m:\u001b[0m\u001b[0;34m\u001b[0m\u001b[0;34m\u001b[0m\u001b[0m\n\u001b[1;32m   1261\u001b[0m         \u001b[0mf\u001b[0m \u001b[0;34m=\u001b[0m \u001b[0mf\u001b[0m\u001b[0;34m[\u001b[0m\u001b[0;34m'model_weights'\u001b[0m\u001b[0;34m]\u001b[0m\u001b[0;34m\u001b[0m\u001b[0;34m\u001b[0m\u001b[0m\n",
      "\u001b[0;32m~/opt/anaconda3/lib/python3.7/site-packages/h5py/_hl/files.py\u001b[0m in \u001b[0;36m__init__\u001b[0;34m(self, name, mode, driver, libver, userblock_size, swmr, rdcc_nslots, rdcc_nbytes, rdcc_w0, track_order, **kwds)\u001b[0m\n\u001b[1;32m    406\u001b[0m                 fid = make_fid(name, mode, userblock_size,\n\u001b[1;32m    407\u001b[0m                                \u001b[0mfapl\u001b[0m\u001b[0;34m,\u001b[0m \u001b[0mfcpl\u001b[0m\u001b[0;34m=\u001b[0m\u001b[0mmake_fcpl\u001b[0m\u001b[0;34m(\u001b[0m\u001b[0mtrack_order\u001b[0m\u001b[0;34m=\u001b[0m\u001b[0mtrack_order\u001b[0m\u001b[0;34m)\u001b[0m\u001b[0;34m,\u001b[0m\u001b[0;34m\u001b[0m\u001b[0;34m\u001b[0m\u001b[0m\n\u001b[0;32m--> 408\u001b[0;31m                                swmr=swmr)\n\u001b[0m\u001b[1;32m    409\u001b[0m \u001b[0;34m\u001b[0m\u001b[0m\n\u001b[1;32m    410\u001b[0m             \u001b[0;32mif\u001b[0m \u001b[0misinstance\u001b[0m\u001b[0;34m(\u001b[0m\u001b[0mlibver\u001b[0m\u001b[0;34m,\u001b[0m \u001b[0mtuple\u001b[0m\u001b[0;34m)\u001b[0m\u001b[0;34m:\u001b[0m\u001b[0;34m\u001b[0m\u001b[0;34m\u001b[0m\u001b[0m\n",
      "\u001b[0;32m~/opt/anaconda3/lib/python3.7/site-packages/h5py/_hl/files.py\u001b[0m in \u001b[0;36mmake_fid\u001b[0;34m(name, mode, userblock_size, fapl, fcpl, swmr)\u001b[0m\n\u001b[1;32m    171\u001b[0m         \u001b[0;32mif\u001b[0m \u001b[0mswmr\u001b[0m \u001b[0;32mand\u001b[0m \u001b[0mswmr_support\u001b[0m\u001b[0;34m:\u001b[0m\u001b[0;34m\u001b[0m\u001b[0;34m\u001b[0m\u001b[0m\n\u001b[1;32m    172\u001b[0m             \u001b[0mflags\u001b[0m \u001b[0;34m|=\u001b[0m \u001b[0mh5f\u001b[0m\u001b[0;34m.\u001b[0m\u001b[0mACC_SWMR_READ\u001b[0m\u001b[0;34m\u001b[0m\u001b[0;34m\u001b[0m\u001b[0m\n\u001b[0;32m--> 173\u001b[0;31m         \u001b[0mfid\u001b[0m \u001b[0;34m=\u001b[0m \u001b[0mh5f\u001b[0m\u001b[0;34m.\u001b[0m\u001b[0mopen\u001b[0m\u001b[0;34m(\u001b[0m\u001b[0mname\u001b[0m\u001b[0;34m,\u001b[0m \u001b[0mflags\u001b[0m\u001b[0;34m,\u001b[0m \u001b[0mfapl\u001b[0m\u001b[0;34m=\u001b[0m\u001b[0mfapl\u001b[0m\u001b[0;34m)\u001b[0m\u001b[0;34m\u001b[0m\u001b[0;34m\u001b[0m\u001b[0m\n\u001b[0m\u001b[1;32m    174\u001b[0m     \u001b[0;32melif\u001b[0m \u001b[0mmode\u001b[0m \u001b[0;34m==\u001b[0m \u001b[0;34m'r+'\u001b[0m\u001b[0;34m:\u001b[0m\u001b[0;34m\u001b[0m\u001b[0;34m\u001b[0m\u001b[0m\n\u001b[1;32m    175\u001b[0m         \u001b[0mfid\u001b[0m \u001b[0;34m=\u001b[0m \u001b[0mh5f\u001b[0m\u001b[0;34m.\u001b[0m\u001b[0mopen\u001b[0m\u001b[0;34m(\u001b[0m\u001b[0mname\u001b[0m\u001b[0;34m,\u001b[0m \u001b[0mh5f\u001b[0m\u001b[0;34m.\u001b[0m\u001b[0mACC_RDWR\u001b[0m\u001b[0;34m,\u001b[0m \u001b[0mfapl\u001b[0m\u001b[0;34m=\u001b[0m\u001b[0mfapl\u001b[0m\u001b[0;34m)\u001b[0m\u001b[0;34m\u001b[0m\u001b[0;34m\u001b[0m\u001b[0m\n",
      "\u001b[0;32mh5py/_objects.pyx\u001b[0m in \u001b[0;36mh5py._objects.with_phil.wrapper\u001b[0;34m()\u001b[0m\n",
      "\u001b[0;32mh5py/_objects.pyx\u001b[0m in \u001b[0;36mh5py._objects.with_phil.wrapper\u001b[0;34m()\u001b[0m\n",
      "\u001b[0;32mh5py/h5f.pyx\u001b[0m in \u001b[0;36mh5py.h5f.open\u001b[0;34m()\u001b[0m\n",
      "\u001b[0;31mOSError\u001b[0m: Unable to open file (unable to open file: name = 'mnist_best_model.hdf5', errno = 2, error message = 'No such file or directory', flags = 0, o_flags = 0)"
     ]
    }
   ],
   "source": [
    "model = Sequential()\n",
    "model.add(Flatten(input_shape = (28, 28))) //784\n",
    "model.add(Dense(784, activation=\"relu\"))\n",
    "model.add(Dropout(0.4))\n",
    "model.add(Dense(130, activation=\"relu\"))\n",
    "model.add(Dropout(0.4))\n",
    "\n",
    "##o/p layer\n",
    "model.add(Dense(10, activation=\"softmax\"))\n",
    "\n",
    "model.compile(loss=\"categorical_crossentropy\", optimizer=\"adam\", metrics=[\"accuracy\"])\n",
    "model.load_weights(\"mnist_best_model.hdf5\")\n",
    "#H = model.fit(trainX, trainY, epochs=10, batch_size=50, validation_split=0.2, callbacks=[checkPoint])"
   ]
  },
  {
   "cell_type": "code",
   "execution_count": null,
   "metadata": {
    "colab": {
     "base_uri": "https://localhost:8080/",
     "height": 1000
    },
    "id": "-fQRscSist5R",
    "outputId": "80bbbcf8-9dfa-4d3d-e0bb-412ae57a880a"
   },
   "outputs": [
    {
     "data": {
      "text/plain": [
       "[<tf.Variable 'dense_15/kernel:0' shape=(784, 784) dtype=float32, numpy=\n",
       " array([[-0.01694451,  0.04663513, -0.00811049, ..., -0.05967808,\n",
       "          0.00534068, -0.04779192],\n",
       "        [-0.02245881,  0.05509427, -0.0138163 , ...,  0.01307097,\n",
       "         -0.00391816,  0.03422115],\n",
       "        [-0.00155469, -0.00335073, -0.04206432, ...,  0.05671225,\n",
       "         -0.05006795, -0.00982013],\n",
       "        ...,\n",
       "        [ 0.02576717,  0.00428786, -0.05573387, ..., -0.04995914,\n",
       "          0.03813235,  0.02457292],\n",
       "        [ 0.03489844,  0.02498345,  0.01347128, ...,  0.02320159,\n",
       "          0.02953859,  0.02276221],\n",
       "        [-0.06074249, -0.03985723, -0.02656384, ..., -0.04737924,\n",
       "          0.03992921,  0.04024638]], dtype=float32)>,\n",
       " <tf.Variable 'dense_15/bias:0' shape=(784,) dtype=float32, numpy=\n",
       " array([-6.54124841e-02, -9.03557986e-02, -2.82504763e-02, -7.83752874e-02,\n",
       "         7.82793108e-03, -5.09070978e-02, -7.89346546e-02, -4.81996648e-02,\n",
       "         5.90648986e-02, -2.89470088e-02, -6.73434883e-02, -3.12872343e-02,\n",
       "        -1.11145832e-01, -3.32221948e-02,  2.39727776e-02, -1.25146061e-02,\n",
       "        -2.83804387e-02, -5.28940447e-02, -2.72105895e-02, -4.61369902e-02,\n",
       "        -5.68233095e-02, -2.97496952e-02, -1.61631918e-03, -7.15282112e-02,\n",
       "         1.07738553e-02,  2.50068586e-02, -4.45014723e-02, -5.20469807e-02,\n",
       "        -3.68421115e-02, -2.21029464e-02, -6.64241612e-02,  1.85294934e-02,\n",
       "        -3.03753987e-02, -4.30608243e-02, -2.37134229e-02, -3.06063816e-02,\n",
       "        -1.03958137e-01, -8.33834186e-02, -3.65420766e-02, -7.34984726e-02,\n",
       "         8.93373229e-03, -6.61030412e-02, -3.72170284e-02, -3.22411358e-02,\n",
       "        -3.83232757e-02, -3.68192345e-02, -5.15690446e-02,  1.40672512e-02,\n",
       "        -6.16435707e-02, -4.51219231e-02, -5.44691384e-02, -2.30837464e-02,\n",
       "         5.61640458e-03, -3.95485237e-02, -3.01449839e-02,  7.91309681e-03,\n",
       "        -9.11157429e-02, -3.54930609e-02, -1.78302322e-02,  4.47774306e-03,\n",
       "        -1.39323371e-02,  3.72048207e-02, -3.59120667e-02,  2.99403612e-02,\n",
       "         1.44499224e-02, -5.15071005e-02, -1.21656908e-02,  1.40243303e-02,\n",
       "        -6.04159869e-02, -2.81803738e-02, -8.54567960e-02, -4.92981300e-02,\n",
       "        -6.15851358e-02,  1.50364134e-02, -8.87290388e-02, -6.23740256e-02,\n",
       "        -9.09862388e-03, -3.24418023e-02, -2.94379815e-02, -3.35425027e-02,\n",
       "        -6.94019347e-02, -5.30812778e-02, -8.90111923e-02, -6.97865039e-02,\n",
       "        -8.90417248e-02, -6.27748622e-03, -7.38190720e-03, -8.41721743e-02,\n",
       "        -2.96907593e-02, -1.90701168e-02, -3.76138575e-02, -4.61875126e-02,\n",
       "        -5.27673252e-02,  3.28610488e-03, -7.84189701e-02,  2.24091914e-02,\n",
       "        -3.87047492e-02, -2.58966871e-02, -2.71047894e-02, -4.86666039e-02,\n",
       "        -7.51367658e-02, -2.51282752e-02, -1.19341880e-01, -2.88148783e-03,\n",
       "        -6.23359084e-02, -3.34309638e-02,  3.69681865e-02,  3.05171534e-02,\n",
       "        -6.79395422e-02, -2.49551199e-02, -3.49219888e-02, -4.04683612e-02,\n",
       "        -1.20445411e-03, -1.10088356e-01, -6.43589422e-02, -3.55959088e-02,\n",
       "        -3.40489708e-02, -6.57836348e-02, -2.73525473e-02, -6.84200972e-02,\n",
       "        -6.17217913e-04, -8.61672387e-02, -6.99344501e-02, -4.63087251e-03,\n",
       "        -2.18165722e-02,  9.25541110e-03, -6.34070337e-02, -1.08799286e-01,\n",
       "        -5.82126668e-03, -4.25362140e-02, -8.05116370e-02, -4.38132882e-02,\n",
       "        -6.31094053e-02, -1.18576428e-02, -6.91320300e-02, -6.16520047e-02,\n",
       "        -5.29076308e-02,  3.57348286e-03, -1.06446082e-02, -1.53624993e-02,\n",
       "        -4.79893899e-03, -1.18636023e-02, -1.91888772e-02, -7.18225613e-02,\n",
       "         6.00476051e-03, -4.45069894e-02, -6.17132075e-02, -4.65089045e-02,\n",
       "         9.43297520e-03,  3.88647243e-02,  7.66429305e-02, -1.32055115e-02,\n",
       "        -3.54396366e-02, -2.99278479e-02, -7.40650967e-02,  3.08299949e-03,\n",
       "        -1.01898402e-01, -5.40296733e-02, -2.75792484e-03,  5.18859401e-02,\n",
       "        -4.83365580e-02, -5.12146577e-02, -4.99461894e-04, -3.63815837e-02,\n",
       "        -2.81395949e-02, -3.98351662e-02, -2.12859605e-02, -4.84954529e-02,\n",
       "         7.44963158e-03, -7.47045577e-02,  2.87478603e-02, -4.69482541e-02,\n",
       "        -6.46201894e-02, -2.43999269e-02, -6.72751218e-02,  1.87441576e-02,\n",
       "        -2.63376646e-02, -6.28661038e-03,  4.96936217e-03, -3.81360836e-02,\n",
       "        -1.08355731e-02, -7.27146640e-02, -5.87567082e-03, -5.26181348e-02,\n",
       "         1.90147329e-02, -4.74028708e-03,  3.36298905e-03, -2.52247136e-02,\n",
       "         6.54704729e-03,  7.00796256e-03, -7.10502788e-02,  3.94670069e-02,\n",
       "        -2.44210158e-02, -5.92469610e-02, -8.40307772e-02, -2.72837877e-02,\n",
       "        -5.36546633e-02, -6.36613136e-03, -9.95507687e-02, -1.86831749e-03,\n",
       "        -3.86046432e-02,  5.08119725e-03, -1.36222097e-03, -3.16205062e-02,\n",
       "        -1.65955685e-02, -1.21121861e-01, -7.31046870e-02, -5.58907539e-02,\n",
       "         6.27633631e-02, -1.47828544e-02, -3.80032547e-02, -8.74775052e-02,\n",
       "        -1.23118479e-02, -7.51776919e-02,  1.20849088e-02, -3.78786847e-02,\n",
       "        -6.68547079e-02,  2.15975959e-02, -6.62854388e-02, -3.86885293e-02,\n",
       "        -6.53977320e-02, -8.55919719e-02, -7.07087815e-02,  8.42407439e-03,\n",
       "        -5.66594899e-02, -2.74006408e-02, -6.49508014e-02, -7.20644444e-02,\n",
       "        -3.80704086e-03, -1.48825524e-02, -4.46970090e-02,  2.39642132e-02,\n",
       "        -4.92948443e-02, -5.12873530e-02, -2.27887556e-02, -4.94940914e-02,\n",
       "        -3.17632370e-02, -5.34891412e-02, -5.36927804e-02,  6.05082046e-03,\n",
       "        -4.00186814e-02, -4.96936105e-02, -3.11891325e-02,  5.18612415e-02,\n",
       "        -2.95287650e-02, -2.83079762e-02, -6.62813038e-02, -2.42185220e-02,\n",
       "        -2.04053372e-02, -3.23196836e-02, -8.69847611e-02, -1.36542730e-02,\n",
       "        -3.88727225e-02, -1.25342339e-01, -5.76399490e-02, -4.74194773e-02,\n",
       "        -2.57475711e-02, -8.57893005e-02, -3.03112902e-02, -7.49587044e-02,\n",
       "        -8.07750672e-02, -3.38954516e-02,  3.19489688e-02, -2.90289707e-02,\n",
       "        -1.60021614e-02, -1.01354020e-02, -4.69895825e-02, -3.86434537e-03,\n",
       "         5.93909342e-03,  4.88058552e-02, -5.85903302e-02, -2.07897015e-02,\n",
       "        -6.65167421e-02, -1.59807932e-02, -1.06734820e-01, -2.00021211e-02,\n",
       "        -5.17606959e-02, -1.33191505e-02, -6.74210563e-02, -4.59387451e-02,\n",
       "        -5.01422249e-02, -3.24866101e-02, -8.87124017e-02, -3.13282050e-02,\n",
       "        -3.51915620e-02, -1.20422421e-02,  7.25264698e-02, -1.49714984e-02,\n",
       "        -6.63455650e-02, -1.13629133e-01, -3.14241089e-02,  6.15460519e-03,\n",
       "        -3.54395472e-02, -3.74108441e-02, -4.34311852e-02, -9.31501240e-02,\n",
       "        -1.31074218e-02, -4.96037398e-03, -7.97742382e-02, -5.22908829e-02,\n",
       "        -2.35426007e-03, -5.34092225e-02, -7.35793337e-02,  4.44700522e-03,\n",
       "        -5.55153517e-03, -6.48446977e-02,  8.57353136e-02, -2.10658573e-02,\n",
       "        -3.72374728e-02, -1.92983821e-02,  4.61922623e-02, -8.64781439e-02,\n",
       "        -3.67163979e-02, -2.36082915e-02, -5.34796156e-02, -4.03383039e-02,\n",
       "        -2.23850776e-02, -7.97764659e-02, -2.57041138e-02, -8.48960727e-02,\n",
       "        -7.84782097e-02, -1.56323761e-02, -6.13103136e-02, -6.28885552e-02,\n",
       "        -2.81311348e-02, -8.10457617e-02,  2.86255553e-02, -6.38227761e-02,\n",
       "        -1.50208538e-02, -2.74174530e-02, -7.00229704e-02, -3.86215225e-02,\n",
       "        -4.00793701e-02, -2.99198478e-02, -4.22260240e-02, -9.87569056e-03,\n",
       "        -1.78892072e-02, -6.57412410e-03, -1.83363240e-02, -4.32099625e-02,\n",
       "        -1.75622310e-02, -1.02208585e-01, -6.50922908e-03, -6.14919364e-02,\n",
       "        -8.77069682e-02, -5.78067116e-02, -3.60347666e-02, -3.77717987e-02,\n",
       "        -3.75759117e-02, -3.61057743e-02,  1.65150557e-02, -4.70963381e-02,\n",
       "        -5.06176874e-02, -3.18542793e-02, -5.61218262e-02, -3.29022133e-03,\n",
       "        -1.11174263e-01, -2.83271912e-02, -4.14113924e-02, -7.30712563e-02,\n",
       "        -3.63209099e-02, -1.06751978e-01, -1.17414340e-03, -9.45546851e-02,\n",
       "        -2.75607910e-02,  7.85070844e-03, -2.05953512e-02, -5.80924302e-02,\n",
       "        -8.43298435e-02, -1.72636155e-02, -4.37623449e-02, -9.89510044e-02,\n",
       "        -3.26414630e-02, -9.55369547e-02, -5.70213199e-02, -3.20260376e-02,\n",
       "        -8.34139511e-02, -5.45679070e-02,  1.93619803e-02, -1.46088768e-02,\n",
       "        -6.06043003e-02, -2.74494439e-02, -5.20274676e-02, -5.24601750e-02,\n",
       "         1.06041199e-02, -7.37144053e-02, -3.91730182e-02, -4.58716042e-02,\n",
       "        -8.36955442e-04,  5.23387752e-02, -5.06334752e-02,  2.54088659e-02,\n",
       "        -5.49095944e-02,  3.28237703e-03,  1.64997708e-02, -2.83214524e-02,\n",
       "        -6.09271154e-02, -3.95943075e-02, -8.77789930e-02, -2.99972966e-02,\n",
       "         4.45431955e-02, -1.10865319e-02, -2.92020105e-03, -6.27070367e-02,\n",
       "         4.57712263e-02, -1.28884253e-03, -4.32637334e-02, -6.78817183e-02,\n",
       "        -2.40334328e-02, -6.37251511e-02, -2.36948691e-02, -8.90359133e-02,\n",
       "        -8.06499720e-02, -1.83708388e-02, -6.35110512e-02, -3.70201133e-02,\n",
       "        -5.02956100e-02, -7.52522126e-02, -8.85876268e-02, -7.41499811e-02,\n",
       "        -4.10951525e-02, -5.59328869e-02, -7.11844265e-02, -2.44131722e-02,\n",
       "        -5.96278608e-02, -5.95741682e-02, -9.48589221e-02, -5.69993705e-02,\n",
       "        -5.32224178e-02,  7.45470729e-03, -4.49777693e-02,  6.24113064e-03,\n",
       "        -1.59009453e-02, -8.52119997e-02, -7.46122301e-02, -5.70110492e-02,\n",
       "        -1.52194481e-02, -4.44332175e-02, -1.85418371e-02, -5.80085814e-02,\n",
       "        -8.73881280e-02, -4.54685214e-05, -3.01555991e-02, -6.52961731e-02,\n",
       "        -6.19862080e-02, -6.61294758e-02, -4.14022356e-02,  5.89423929e-04,\n",
       "        -3.73752043e-02, -1.27217174e-02, -4.93838042e-02, -8.63340497e-02,\n",
       "        -5.16040362e-02, -6.51484430e-02,  8.03723838e-03, -4.70168591e-02,\n",
       "        -4.86255400e-02, -1.61076784e-02, -2.42088009e-02, -1.76995788e-02,\n",
       "        -3.42321172e-02, -1.00455061e-01, -1.12741189e-02, -5.37020788e-02,\n",
       "        -8.93791113e-03, -2.01085173e-02,  9.00925547e-02,  1.39312716e-02,\n",
       "        -7.66512454e-02, -4.00393754e-02, -7.89948180e-02, -1.05167426e-01,\n",
       "         3.17631513e-02, -1.94865856e-02, -4.42656875e-03, -2.32170373e-02,\n",
       "        -8.92988890e-02, -1.47725642e-02, -1.80333294e-02, -9.97853950e-02,\n",
       "        -9.66127515e-02, -1.01565614e-01, -2.01896466e-02, -1.07899429e-02,\n",
       "        -3.56012285e-02, -8.73865858e-02, -8.03063363e-02, -2.91297678e-02,\n",
       "        -5.15797995e-02, -3.95276770e-02, -2.27863975e-02, -4.31277752e-02,\n",
       "        -3.63209732e-02, -2.52541117e-02,  2.92643555e-03, -2.74457764e-02,\n",
       "        -2.12694090e-02, -5.65237552e-03,  1.78033602e-04, -4.41852659e-02,\n",
       "        -3.37510780e-02, -4.85812575e-02, -1.16877586e-01, -3.89226153e-02,\n",
       "        -5.02635203e-02, -6.97930306e-02, -1.04042694e-01, -4.93573062e-02,\n",
       "        -3.60860601e-02, -7.73056829e-03, -9.23783630e-02, -4.24776711e-02,\n",
       "        -3.57641876e-02, -6.37416616e-02, -5.57512902e-02, -9.74006504e-02,\n",
       "        -3.77767123e-02, -4.07575816e-02,  9.52209160e-03, -8.43943357e-02,\n",
       "        -7.07649812e-02, -5.81369214e-02,  8.17971118e-03,  8.72029662e-02,\n",
       "        -3.84195074e-02, -4.53760736e-02, -2.25963462e-02, -1.79168489e-02,\n",
       "        -4.35866527e-02,  2.37901229e-02, -5.82150891e-02, -2.90116426e-02,\n",
       "         2.35006586e-02, -3.57639156e-02, -2.19770856e-02, -3.63478735e-02,\n",
       "        -4.15515974e-02, -8.66454020e-02, -6.19019233e-02, -1.12294760e-02,\n",
       "         7.97030982e-03,  6.28510341e-02, -6.87096268e-02, -6.62315488e-02,\n",
       "         1.27923237e-02, -3.74853276e-02, -4.98409756e-02, -3.34007926e-02,\n",
       "        -5.00452779e-02, -3.41157615e-02, -6.79802299e-02, -7.40349442e-02,\n",
       "        -1.05671119e-02,  2.40715388e-02, -3.84279937e-02, -1.53044760e-02,\n",
       "        -4.09107916e-02, -4.81594913e-02, -3.90529335e-02, -3.63298468e-02,\n",
       "        -3.33436243e-02, -2.62012184e-02, -6.62579685e-02, -6.41291216e-02,\n",
       "        -5.25523126e-02, -9.41773877e-03, -5.51101305e-02, -8.10029581e-02,\n",
       "        -4.85932119e-02, -3.77780162e-02, -5.83765022e-02, -6.23607114e-02,\n",
       "        -4.91987467e-02, -2.70263851e-02, -3.71819027e-02, -8.58783722e-02,\n",
       "         5.46188764e-02, -1.99422380e-03, -4.18111943e-02, -3.02861519e-02,\n",
       "        -1.14234881e-02, -4.84613106e-02, -9.08964723e-02, -6.67280331e-02,\n",
       "        -1.21743791e-02,  1.82880019e-03, -9.52193215e-02, -9.45923775e-02,\n",
       "        -1.24675021e-01, -5.50472960e-02,  9.50397924e-03, -1.05227288e-02,\n",
       "        -7.64836073e-02, -9.09830071e-03,  4.88679809e-03,  4.84562758e-03,\n",
       "        -7.81997293e-02, -3.87872830e-02, -4.48390953e-02,  1.63007323e-02,\n",
       "        -2.66035255e-02, -4.67854962e-02, -7.51109645e-02, -1.63978711e-02,\n",
       "        -4.36555520e-02, -1.70396920e-02, -8.51931870e-02, -8.07342306e-02,\n",
       "        -6.49893358e-02, -4.53853682e-02, -1.78595558e-02, -1.86498128e-02,\n",
       "         2.21708901e-02, -3.58095020e-02, -7.12614506e-02, -3.35772000e-02,\n",
       "        -8.49747956e-02, -1.18764341e-01, -2.82562841e-02, -7.49317929e-02,\n",
       "        -9.17057469e-02,  8.74371454e-03, -6.24565743e-02, -7.51224114e-03,\n",
       "        -3.22428308e-02, -3.40276733e-02, -1.20835593e-02, -7.84420744e-02,\n",
       "        -6.23719580e-02, -8.95828754e-02,  7.30368076e-03, -1.80338360e-02,\n",
       "        -1.00792190e-02, -4.51517701e-02, -4.06180471e-02, -6.68997392e-02,\n",
       "        -4.28493358e-02, -9.11755208e-03, -2.81422865e-02,  1.31570818e-02,\n",
       "         2.60397065e-02, -3.86903770e-02, -5.53718731e-02, -5.86543866e-02,\n",
       "         2.10040547e-02,  3.38455811e-02, -7.22113103e-02, -1.15842270e-02,\n",
       "        -6.23698793e-02, -1.67499036e-02, -6.26993477e-02, -3.61383073e-02,\n",
       "        -4.70275506e-02, -6.01319186e-02, -4.02995870e-02, -4.72933725e-02,\n",
       "        -4.30110283e-02, -2.53711957e-02, -2.16513071e-02, -5.92190400e-02,\n",
       "         2.49185995e-03, -2.20839325e-02, -4.46474031e-02,  1.35181509e-02,\n",
       "        -7.86529556e-02, -6.02792352e-02, -3.05929706e-02, -6.68164417e-02,\n",
       "        -2.66882144e-02, -6.44477233e-02, -5.00308685e-02, -7.84424841e-02,\n",
       "        -6.12708405e-02, -9.41638369e-03, -3.83964144e-02, -6.10991605e-02,\n",
       "        -6.48439080e-02, -5.71311042e-02, -1.22439796e-02, -5.85892834e-02,\n",
       "        -2.32829601e-02, -3.87093350e-02, -1.59860700e-02, -8.15476701e-02,\n",
       "         7.97663908e-03, -3.45032662e-02, -1.20838489e-02, -4.12458070e-02,\n",
       "         9.12700221e-03, -4.43621278e-02, -5.48946187e-02, -3.07595134e-02,\n",
       "        -2.40775757e-02, -3.53915058e-02, -6.45015463e-02, -1.11716520e-02,\n",
       "         5.09531908e-02, -6.46145418e-02, -7.00739250e-02,  2.51608621e-02,\n",
       "        -9.23106894e-02, -3.06406450e-02, -4.24067751e-02, -9.68029164e-03,\n",
       "         6.20277505e-03,  9.12129804e-02, -2.68374458e-02, -4.14646715e-02,\n",
       "        -4.63712513e-02, -1.72497723e-02, -5.31155169e-02,  6.29498018e-03,\n",
       "        -7.77210221e-02, -4.79340144e-02, -6.06730729e-02, -6.94963187e-02,\n",
       "        -2.78127287e-02, -5.35385869e-02, -4.05419059e-02, -8.37470219e-02,\n",
       "        -5.05515561e-02, -7.86276758e-02,  4.92096320e-03, -8.28871429e-02,\n",
       "        -2.38905102e-02, -4.97883484e-02, -5.40167466e-02, -7.16907084e-02,\n",
       "        -3.05188391e-02, -9.84877795e-02, -7.23383725e-02,  2.13653017e-02,\n",
       "        -3.87475863e-02, -2.12979615e-02, -5.41471504e-02, -1.62993409e-02,\n",
       "        -1.87480971e-02, -6.16194159e-02, -3.53820734e-02, -5.76335192e-02,\n",
       "        -3.31055224e-02,  1.86936799e-02, -8.13405514e-02, -5.33459820e-02,\n",
       "        -3.31311114e-02, -3.21633294e-02, -6.16274253e-02, -7.66207874e-02,\n",
       "        -5.03072329e-02, -4.45661061e-02, -3.93142477e-02, -5.10594808e-02,\n",
       "        -2.52642087e-03, -1.04846219e-02, -4.51092608e-02, -7.12143108e-02,\n",
       "        -5.13758361e-02,  4.43603989e-04,  5.11539727e-03, -7.17224851e-02,\n",
       "        -3.52316648e-02,  1.99086778e-02, -6.99886009e-02, -7.53987357e-02,\n",
       "        -2.69835014e-02, -2.04766896e-02, -4.13681418e-02, -5.61545789e-02,\n",
       "        -1.91671178e-02, -3.51319462e-02, -3.02783474e-02, -6.65551275e-02,\n",
       "         2.68573686e-02, -8.19584206e-02, -2.20755078e-02, -3.31048332e-02,\n",
       "        -7.12384656e-02, -1.02370102e-02, -4.30420116e-02, -3.16991471e-02,\n",
       "         5.89688960e-03, -1.93574820e-02, -9.84937232e-03,  1.22059574e-02],\n",
       "       dtype=float32)>,\n",
       " <tf.Variable 'dense_16/kernel:0' shape=(784, 130) dtype=float32, numpy=\n",
       " array([[-0.02830596,  0.01007875,  0.0008904 , ..., -0.06625164,\n",
       "         -0.30709016, -0.12658462],\n",
       "        [-0.01763867,  0.25112954, -0.14089869, ..., -0.02828315,\n",
       "         -0.22369967, -0.06707039],\n",
       "        [ 0.08194508,  0.16494027,  0.17083533, ...,  0.12172448,\n",
       "         -0.15891995, -0.05761789],\n",
       "        ...,\n",
       "        [ 0.00868044, -0.22429502, -0.07222364, ...,  0.15181306,\n",
       "         -0.1063098 , -0.04156937],\n",
       "        [ 0.0054386 ,  0.09078939, -0.00660223, ..., -0.00812888,\n",
       "         -0.14415058, -0.07062095],\n",
       "        [-0.01640997,  0.09056114,  0.06537827, ...,  0.20951214,\n",
       "         -0.20988023, -0.19076227]], dtype=float32)>,\n",
       " <tf.Variable 'dense_16/bias:0' shape=(130,) dtype=float32, numpy=\n",
       " array([ 0.0507609 , -0.01281399,  0.0273257 ,  0.16288681,  0.00125577,\n",
       "        -0.00635603, -0.00127282, -0.03097031,  0.04298612,  0.14023167,\n",
       "         0.12702307,  0.07356813, -0.0655269 ,  0.13170284, -0.16582865,\n",
       "        -0.12390377,  0.0789943 ,  0.07664564,  0.0564294 ,  0.09348349,\n",
       "        -0.03375588, -0.01258238, -0.1170629 ,  0.03786324, -0.10156371,\n",
       "         0.15139922, -0.12364174, -0.1331912 ,  0.02173268,  0.02411207,\n",
       "         0.10646638, -0.03414535, -0.06132969,  0.04833224,  0.00503462,\n",
       "         0.02031495,  0.07375006, -0.03629505, -0.10138071, -0.075253  ,\n",
       "        -0.06762636, -0.03385502,  0.10870792, -0.03499569, -0.07407555,\n",
       "         0.08972066,  0.11089212, -0.1472403 , -0.05224602,  0.06535707,\n",
       "        -0.04808021, -0.06617496, -0.01991786,  0.15615238, -0.09045924,\n",
       "         0.14652021, -0.01434855, -0.08916374,  0.02524517, -0.02282373,\n",
       "         0.09138191, -0.02940395,  0.1486834 ,  0.0633382 , -0.04017289,\n",
       "        -0.07781493, -0.046625  ,  0.09353027,  0.06965433, -0.06994192,\n",
       "        -0.07411162,  0.09499852, -0.11518008,  0.17802402, -0.10541576,\n",
       "        -0.08617091,  0.03330762,  0.09646908,  0.14203371,  0.04053256,\n",
       "         0.07087543, -0.09726771, -0.1454626 , -0.06097174,  0.04441028,\n",
       "         0.0988663 , -0.07991523,  0.02394312, -0.03331175, -0.01577006,\n",
       "         0.17635573, -0.16543056, -0.00870999,  0.11846521,  0.00613467,\n",
       "         0.03958428, -0.04897777,  0.05574437,  0.00054488,  0.06865066,\n",
       "         0.11153369, -0.08449255,  0.12118509,  0.03845005,  0.14254695,\n",
       "         0.21493018,  0.16652468,  0.12175929, -0.0370595 , -0.06450351,\n",
       "        -0.03743514, -0.05763096, -0.08087664,  0.12824419,  0.06411025,\n",
       "        -0.05164783,  0.13412273, -0.10084818, -0.03322722,  0.03566787,\n",
       "         0.03065331, -0.03292071, -0.00354752,  0.00512117,  0.02553555,\n",
       "        -0.04801525, -0.1284741 , -0.03947482,  0.14244254,  0.0445646 ],\n",
       "       dtype=float32)>,\n",
       " <tf.Variable 'dense_17/kernel:0' shape=(130, 10) dtype=float32, numpy=\n",
       " array([[ 0.06374249, -0.19678646,  0.13215113, ..., -0.31133407,\n",
       "         -0.0942243 ,  0.09228437],\n",
       "        [-0.2552252 ,  0.2175453 ,  0.05209952, ..., -0.3155151 ,\n",
       "          0.09690029, -0.2585087 ],\n",
       "        [ 0.06968038, -0.24794917,  0.22532573, ..., -0.04344838,\n",
       "          0.05599921, -0.36055085],\n",
       "        ...,\n",
       "        [-0.20597872, -0.22163394,  0.18669222, ...,  0.14690018,\n",
       "         -0.42866287, -0.2623709 ],\n",
       "        [ 0.01338782, -0.0780313 , -0.250476  , ..., -0.25926554,\n",
       "          0.15420952,  0.18043406],\n",
       "        [-0.15070742,  0.13669886, -0.11336167, ..., -0.14248835,\n",
       "          0.17820354, -0.02113415]], dtype=float32)>,\n",
       " <tf.Variable 'dense_17/bias:0' shape=(10,) dtype=float32, numpy=\n",
       " array([ 0.14334367, -0.06106704, -0.10811603, -0.13129885, -0.09598319,\n",
       "        -0.18149862, -0.0161874 , -0.06881934,  0.3405897 ,  0.10465801],\n",
       "       dtype=float32)>]"
      ]
     },
     "execution_count": 46,
     "metadata": {
      "tags": []
     },
     "output_type": "execute_result"
    }
   ],
   "source": [
    "model.load_weights(\"mnist_best_model.hdf5\")\n",
    "model.weights"
   ]
  },
  {
   "cell_type": "code",
   "execution_count": null,
   "metadata": {
    "colab": {
     "base_uri": "https://localhost:8080/",
     "height": 357
    },
    "id": "2Wf8eMWhtOT6",
    "outputId": "7c90cc68-5d63-42e6-ce62-314a218e9d3c"
   },
   "outputs": [
    {
     "name": "stdout",
     "output_type": "stream",
     "text": [
      "Model: \"sequential_5\"\n",
      "_________________________________________________________________\n",
      "Layer (type)                 Output Shape              Param #   \n",
      "=================================================================\n",
      "flatten_5 (Flatten)          (None, 784)               0         \n",
      "_________________________________________________________________\n",
      "dense_15 (Dense)             (None, 784)               615440    \n",
      "_________________________________________________________________\n",
      "dropout_10 (Dropout)         (None, 784)               0         \n",
      "_________________________________________________________________\n",
      "dense_16 (Dense)             (None, 130)               102050    \n",
      "_________________________________________________________________\n",
      "dropout_11 (Dropout)         (None, 130)               0         \n",
      "_________________________________________________________________\n",
      "dense_17 (Dense)             (None, 10)                1310      \n",
      "=================================================================\n",
      "Total params: 718,800\n",
      "Trainable params: 718,800\n",
      "Non-trainable params: 0\n",
      "_________________________________________________________________\n"
     ]
    }
   ],
   "source": [
    "model.summary()"
   ]
  },
  {
   "cell_type": "code",
   "execution_count": 20,
   "metadata": {
    "id": "_oytNJ5NtliK"
   },
   "outputs": [
    {
     "data": {
      "text/plain": [
       "102050"
      ]
     },
     "execution_count": 20,
     "metadata": {},
     "output_type": "execute_result"
    }
   ],
   "source": [
    "(784 * 130 ) + 130"
   ]
  },
  {
   "cell_type": "code",
   "execution_count": null,
   "metadata": {},
   "outputs": [],
   "source": []
  }
 ],
 "metadata": {
  "accelerator": "GPU",
  "colab": {
   "name": "DeepLearning_17Aug_2020_mnist_with_DropOut.ipynb",
   "provenance": []
  },
  "kernelspec": {
   "display_name": "Python 3",
   "language": "python",
   "name": "python3"
  },
  "language_info": {
   "codemirror_mode": {
    "name": "ipython",
    "version": 3
   },
   "file_extension": ".py",
   "mimetype": "text/x-python",
   "name": "python",
   "nbconvert_exporter": "python",
   "pygments_lexer": "ipython3",
   "version": "3.8.3"
  }
 },
 "nbformat": 4,
 "nbformat_minor": 1
}

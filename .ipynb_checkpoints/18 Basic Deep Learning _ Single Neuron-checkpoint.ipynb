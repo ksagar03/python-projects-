{
 "cells": [
  {
   "cell_type": "code",
   "execution_count": 2,
   "metadata": {},
   "outputs": [],
   "source": [
    "from random import choice\n",
    "from numpy import array, dot, random\n",
    "import numpy as np"
   ]
  },
  {
   "cell_type": "code",
   "execution_count": 3,
   "metadata": {},
   "outputs": [],
   "source": [
    "## AND Gate"
   ]
  },
  {
   "cell_type": "code",
   "execution_count": 11,
   "metadata": {},
   "outputs": [
    {
     "name": "stdout",
     "output_type": "stream",
     "text": [
      "[0 0] --> 0 0\n",
      "[0 1] --> 0 1\n",
      "[1 0] --> 0 1\n",
      "[1 1] --> 1 2\n"
     ]
    }
   ],
   "source": [
    "training_data = [\n",
    "    (array([0, 0]), 0),\n",
    "    (array([0, 1]), 0),\n",
    "    (array([1, 0]), 0),\n",
    "    (array([1, 1]), 1),\n",
    "]\n",
    "\n",
    "w = [1,1]\n",
    "def step_function(x):\n",
    "    if x<2:\n",
    "        return 0\n",
    "    else:\n",
    "        return 1\n",
    "    \n",
    "for ind, dep in training_data:\n",
    "    result = sum(ind)\n",
    "    out = step_function(result)\n",
    "    print(ind, \"-->\", out, result)\n",
    "\n"
   ]
  },
  {
   "cell_type": "code",
   "execution_count": null,
   "metadata": {},
   "outputs": [],
   "source": [
    "### Rosenblatt's Perceptron "
   ]
  },
  {
   "cell_type": "code",
   "execution_count": 53,
   "metadata": {},
   "outputs": [
    {
     "name": "stdout",
     "output_type": "stream",
     "text": [
      "[ 2.  1. -1.]\n",
      "[0 0] --> 0\n",
      "[0 1] --> 1\n",
      "[1 0] --> 1\n",
      "[1 1] --> 1\n"
     ]
    }
   ],
   "source": [
    "training_data = [\n",
    "    (array([0, 0, 1]), 0),\n",
    "    (array([0, 1, 1]), 1),\n",
    "    (array([1, 0, 1]), 1),\n",
    "    (array([1, 1, 1]), 1),\n",
    "]\n",
    "\n",
    "def step_function(x):\n",
    "    if x<0:\n",
    "        return 0\n",
    "    else:\n",
    "        return 1\n",
    "    \n",
    "    \n",
    "w = [1, 0, -2]\n",
    "errors = []\n",
    "lr = 0.01\n",
    "n = 50000\n",
    "\n",
    "for i in range(n):\n",
    "    error = 0\n",
    "    for ind,expected in training_data:\n",
    "        result = dot(ind, w)\n",
    "        predict = step_function(result)\n",
    "        e = expected - predict\n",
    "        error += e\n",
    "    errors.append(error)\n",
    "    w = w + (lr*error*ind)  #oA - GD\n",
    "\n",
    "print(w)\n",
    "\n",
    "for x, y in training_data:\n",
    "    result = dot(x,w)\n",
    "    out = step_function(result)\n",
    "    print(x[:-1], \"-->\", out)\n"
   ]
  },
  {
   "cell_type": "code",
   "execution_count": 54,
   "metadata": {},
   "outputs": [
    {
     "name": "stdout",
     "output_type": "stream",
     "text": [
      "Requirement already satisfied: tensorflow in /Users/prateekmishra/opt/anaconda3/lib/python3.7/site-packages (2.2.0)\n",
      "Requirement already satisfied: opt-einsum>=2.3.2 in /Users/prateekmishra/opt/anaconda3/lib/python3.7/site-packages (from tensorflow) (3.2.1)\n",
      "Requirement already satisfied: h5py<2.11.0,>=2.10.0 in /Users/prateekmishra/opt/anaconda3/lib/python3.7/site-packages (from tensorflow) (2.10.0)\n",
      "Requirement already satisfied: wrapt>=1.11.1 in /Users/prateekmishra/opt/anaconda3/lib/python3.7/site-packages (from tensorflow) (1.11.2)\n",
      "Requirement already satisfied: absl-py>=0.7.0 in /Users/prateekmishra/opt/anaconda3/lib/python3.7/site-packages (from tensorflow) (0.9.0)\n",
      "Requirement already satisfied: numpy<2.0,>=1.16.0 in /Users/prateekmishra/opt/anaconda3/lib/python3.7/site-packages (from tensorflow) (1.18.1)\n",
      "Requirement already satisfied: termcolor>=1.1.0 in /Users/prateekmishra/opt/anaconda3/lib/python3.7/site-packages (from tensorflow) (1.1.0)\n",
      "Requirement already satisfied: grpcio>=1.8.6 in /Users/prateekmishra/opt/anaconda3/lib/python3.7/site-packages (from tensorflow) (1.30.0)\n",
      "Requirement already satisfied: scipy==1.4.1; python_version >= \"3\" in /Users/prateekmishra/opt/anaconda3/lib/python3.7/site-packages (from tensorflow) (1.4.1)\n",
      "Requirement already satisfied: gast==0.3.3 in /Users/prateekmishra/opt/anaconda3/lib/python3.7/site-packages (from tensorflow) (0.3.3)\n",
      "Requirement already satisfied: keras-preprocessing>=1.1.0 in /Users/prateekmishra/opt/anaconda3/lib/python3.7/site-packages (from tensorflow) (1.1.2)\n",
      "Requirement already satisfied: tensorboard<2.3.0,>=2.2.0 in /Users/prateekmishra/opt/anaconda3/lib/python3.7/site-packages (from tensorflow) (2.2.2)\n",
      "Requirement already satisfied: protobuf>=3.8.0 in /Users/prateekmishra/opt/anaconda3/lib/python3.7/site-packages (from tensorflow) (3.12.2)\n",
      "Requirement already satisfied: six>=1.12.0 in /Users/prateekmishra/opt/anaconda3/lib/python3.7/site-packages (from tensorflow) (1.14.0)\n",
      "Requirement already satisfied: google-pasta>=0.1.8 in /Users/prateekmishra/opt/anaconda3/lib/python3.7/site-packages (from tensorflow) (0.2.0)\n",
      "Requirement already satisfied: wheel>=0.26; python_version >= \"3\" in /Users/prateekmishra/opt/anaconda3/lib/python3.7/site-packages (from tensorflow) (0.34.2)\n",
      "Requirement already satisfied: tensorflow-estimator<2.3.0,>=2.2.0 in /Users/prateekmishra/opt/anaconda3/lib/python3.7/site-packages (from tensorflow) (2.2.0)\n",
      "Requirement already satisfied: astunparse==1.6.3 in /Users/prateekmishra/opt/anaconda3/lib/python3.7/site-packages (from tensorflow) (1.6.3)\n",
      "Requirement already satisfied: markdown>=2.6.8 in /Users/prateekmishra/opt/anaconda3/lib/python3.7/site-packages (from tensorboard<2.3.0,>=2.2.0->tensorflow) (3.2.2)\n",
      "Requirement already satisfied: requests<3,>=2.21.0 in /Users/prateekmishra/opt/anaconda3/lib/python3.7/site-packages (from tensorboard<2.3.0,>=2.2.0->tensorflow) (2.22.0)\n",
      "Requirement already satisfied: tensorboard-plugin-wit>=1.6.0 in /Users/prateekmishra/opt/anaconda3/lib/python3.7/site-packages (from tensorboard<2.3.0,>=2.2.0->tensorflow) (1.7.0)\n",
      "Requirement already satisfied: google-auth-oauthlib<0.5,>=0.4.1 in /Users/prateekmishra/opt/anaconda3/lib/python3.7/site-packages (from tensorboard<2.3.0,>=2.2.0->tensorflow) (0.4.1)\n",
      "Requirement already satisfied: werkzeug>=0.11.15 in /Users/prateekmishra/opt/anaconda3/lib/python3.7/site-packages (from tensorboard<2.3.0,>=2.2.0->tensorflow) (1.0.0)\n",
      "Requirement already satisfied: setuptools>=41.0.0 in /Users/prateekmishra/opt/anaconda3/lib/python3.7/site-packages (from tensorboard<2.3.0,>=2.2.0->tensorflow) (46.0.0.post20200309)\n",
      "Requirement already satisfied: google-auth<2,>=1.6.3 in /Users/prateekmishra/opt/anaconda3/lib/python3.7/site-packages (from tensorboard<2.3.0,>=2.2.0->tensorflow) (1.21.2)\n",
      "Requirement already satisfied: importlib-metadata; python_version < \"3.8\" in /Users/prateekmishra/opt/anaconda3/lib/python3.7/site-packages (from markdown>=2.6.8->tensorboard<2.3.0,>=2.2.0->tensorflow) (1.5.0)\n",
      "Requirement already satisfied: chardet<3.1.0,>=3.0.2 in /Users/prateekmishra/opt/anaconda3/lib/python3.7/site-packages (from requests<3,>=2.21.0->tensorboard<2.3.0,>=2.2.0->tensorflow) (3.0.4)\n",
      "Requirement already satisfied: certifi>=2017.4.17 in /Users/prateekmishra/opt/anaconda3/lib/python3.7/site-packages (from requests<3,>=2.21.0->tensorboard<2.3.0,>=2.2.0->tensorflow) (2019.11.28)\n",
      "Requirement already satisfied: urllib3!=1.25.0,!=1.25.1,<1.26,>=1.21.1 in /Users/prateekmishra/opt/anaconda3/lib/python3.7/site-packages (from requests<3,>=2.21.0->tensorboard<2.3.0,>=2.2.0->tensorflow) (1.25.8)\n",
      "Requirement already satisfied: idna<2.9,>=2.5 in /Users/prateekmishra/opt/anaconda3/lib/python3.7/site-packages (from requests<3,>=2.21.0->tensorboard<2.3.0,>=2.2.0->tensorflow) (2.8)\n",
      "Requirement already satisfied: requests-oauthlib>=0.7.0 in /Users/prateekmishra/opt/anaconda3/lib/python3.7/site-packages (from google-auth-oauthlib<0.5,>=0.4.1->tensorboard<2.3.0,>=2.2.0->tensorflow) (1.3.0)\n",
      "Requirement already satisfied: cachetools<5.0,>=2.0.0 in /Users/prateekmishra/opt/anaconda3/lib/python3.7/site-packages (from google-auth<2,>=1.6.3->tensorboard<2.3.0,>=2.2.0->tensorflow) (4.1.1)\n",
      "Requirement already satisfied: pyasn1-modules>=0.2.1 in /Users/prateekmishra/opt/anaconda3/lib/python3.7/site-packages (from google-auth<2,>=1.6.3->tensorboard<2.3.0,>=2.2.0->tensorflow) (0.2.8)\n",
      "Requirement already satisfied: rsa<5,>=3.1.4; python_version >= \"3.5\" in /Users/prateekmishra/opt/anaconda3/lib/python3.7/site-packages (from google-auth<2,>=1.6.3->tensorboard<2.3.0,>=2.2.0->tensorflow) (4.6)\n",
      "Requirement already satisfied: zipp>=0.5 in /Users/prateekmishra/opt/anaconda3/lib/python3.7/site-packages (from importlib-metadata; python_version < \"3.8\"->markdown>=2.6.8->tensorboard<2.3.0,>=2.2.0->tensorflow) (2.2.0)\n",
      "Requirement already satisfied: oauthlib>=3.0.0 in /Users/prateekmishra/opt/anaconda3/lib/python3.7/site-packages (from requests-oauthlib>=0.7.0->google-auth-oauthlib<0.5,>=0.4.1->tensorboard<2.3.0,>=2.2.0->tensorflow) (3.1.0)\n",
      "Requirement already satisfied: pyasn1<0.5.0,>=0.4.6 in /Users/prateekmishra/opt/anaconda3/lib/python3.7/site-packages (from pyasn1-modules>=0.2.1->google-auth<2,>=1.6.3->tensorboard<2.3.0,>=2.2.0->tensorflow) (0.4.8)\n"
     ]
    }
   ],
   "source": [
    "#!pip install tensorflow"
   ]
  },
  {
   "cell_type": "code",
   "execution_count": null,
   "metadata": {},
   "outputs": [],
   "source": []
  }
 ],
 "metadata": {
  "kernelspec": {
   "display_name": "Python 3",
   "language": "python",
   "name": "python3"
  },
  "language_info": {
   "codemirror_mode": {
    "name": "ipython",
    "version": 3
   },
   "file_extension": ".py",
   "mimetype": "text/x-python",
   "name": "python",
   "nbconvert_exporter": "python",
   "pygments_lexer": "ipython3",
   "version": "3.8.3"
  }
 },
 "nbformat": 4,
 "nbformat_minor": 4
}

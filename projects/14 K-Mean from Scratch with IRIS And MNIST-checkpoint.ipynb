{
 "cells": [
  {
   "cell_type": "code",
   "execution_count": 84,
   "metadata": {},
   "outputs": [],
   "source": [
    "from sklearn.datasets import load_iris\n",
    "import numpy as np\n",
    "import matplotlib.pyplot as plt"
   ]
  },
  {
   "cell_type": "code",
   "execution_count": 85,
   "metadata": {},
   "outputs": [],
   "source": [
    "iris = load_iris()\n",
    "data = iris.data\n",
    "target = iris.target"
   ]
  },
  {
   "cell_type": "code",
   "execution_count": 87,
   "metadata": {},
   "outputs": [],
   "source": [
    "iris_data = np.insert(data, 4, target, axis = 1)"
   ]
  },
  {
   "cell_type": "code",
   "execution_count": 88,
   "metadata": {},
   "outputs": [
    {
     "data": {
      "image/png": "[encoded data removed]",
      "text/plain": [
       "<Figure size 432x288 with 1 Axes>"
      ]
     },
     "metadata": {
      "needs_background": "light"
     },
     "output_type": "display_data"
    }
   ],
   "source": [
    "plt.scatter(data[:, 2], data[:, 3])\n",
    "plt.show()"
   ]
  },
  {
   "cell_type": "code",
   "execution_count": 89,
   "metadata": {},
   "outputs": [],
   "source": [
    "def Distance2Points(point1, point2):\n",
    "    dis = sum((point1 - point2)**2)**0.5\n",
    "    return dis"
   ]
  },
  {
   "cell_type": "code",
   "execution_count": 140,
   "metadata": {},
   "outputs": [],
   "source": [
    "def KMean(data, k = 3, iteration = 100):\n",
    "    centroids = {}\n",
    "    classes = {}\n",
    "    \n",
    "    for i in range(k):\n",
    "        centroids[i] = data[i][:-1]\n",
    "        classes[i] = [] \n",
    "        \n",
    "    for iteration in range(iteration):\n",
    "        ## find Distance of all the datapoints with centroids\n",
    "        for i in range(k):\n",
    "            classes[i] = []\n",
    "            \n",
    "        for dataPoint in data:\n",
    "            Distance = []\n",
    "            for centroid in centroids:\n",
    "                \n",
    "                dis = Distance2Points(dataPoint[:-1], centroids[centroid])\n",
    "                Distance.append(dis)\n",
    "            \n",
    "            minDis = min(Distance)\n",
    "            minDisIndex = Distance.index(minDis)\n",
    "            classes[minDisIndex].append(dataPoint)\n",
    "            \n",
    "        oldCentroid = dict(centroids)\n",
    "        for classKey in classes:\n",
    "            classData = classes[classKey]\n",
    "            newCentroid = np.mean(classData, axis = 0)\n",
    "            centroids[classKey] = newCentroid[:-1]\n",
    "        \n",
    "        \n",
    "        \n",
    "    return classes, centroids\n",
    "    "
   ]
  },
  {
   "cell_type": "code",
   "execution_count": 141,
   "metadata": {
    "scrolled": false
   },
   "outputs": [],
   "source": [
    "ClassDt, Cen = KMean(iris_data)"
   ]
  },
  {
   "cell_type": "code",
   "execution_count": 149,
   "metadata": {},
   "outputs": [
    {
     "name": "stdout",
     "output_type": "stream",
     "text": [
      "1 0\n",
      "1 0\n",
      "1 0\n",
      "2 0\n",
      "2 0\n",
      "2 0\n",
      "2 0\n",
      "2 0\n",
      "2 0\n",
      "2 0\n",
      "2 0\n",
      "2 0\n",
      "2 0\n",
      "2 0\n",
      "2 0\n",
      "2 0\n",
      "2 0\n",
      "2 0\n",
      "2 0\n",
      "2 0\n",
      "2 0\n",
      "2 0\n",
      "2 0\n",
      "2 0\n",
      "2 0\n",
      "2 0\n",
      "2 0\n",
      "2 0\n",
      "2 0\n",
      "2 0\n",
      "2 0\n",
      "2 0\n",
      "2 0\n",
      "2 0\n",
      "2 0\n",
      "2 0\n",
      "2 0\n",
      "2 0\n",
      "2 0\n",
      "1 1\n",
      "1 1\n",
      "1 1\n",
      "1 1\n",
      "1 1\n",
      "1 1\n",
      "1 1\n",
      "1 1\n",
      "1 1\n",
      "1 1\n",
      "1 1\n",
      "1 1\n",
      "1 1\n",
      "1 1\n",
      "1 1\n",
      "1 1\n",
      "1 1\n",
      "1 1\n",
      "1 1\n",
      "1 1\n",
      "1 1\n",
      "1 1\n",
      "1 1\n",
      "1 1\n",
      "1 1\n",
      "1 1\n",
      "1 1\n",
      "1 1\n",
      "1 1\n",
      "1 1\n",
      "1 1\n",
      "1 1\n",
      "1 1\n",
      "1 1\n",
      "1 1\n",
      "1 1\n",
      "1 1\n",
      "1 1\n",
      "1 1\n",
      "1 1\n",
      "1 1\n",
      "1 1\n",
      "1 1\n",
      "1 1\n",
      "1 1\n",
      "1 1\n",
      "1 1\n",
      "2 1\n",
      "2 1\n",
      "2 1\n",
      "2 1\n",
      "2 1\n",
      "2 1\n",
      "2 1\n",
      "2 1\n",
      "2 1\n",
      "2 1\n",
      "2 1\n",
      "2 1\n",
      "2 1\n",
      "2 1\n",
      "0 2\n",
      "0 2\n",
      "0 2\n",
      "0 2\n",
      "0 2\n",
      "0 2\n",
      "0 2\n",
      "0 2\n",
      "0 2\n",
      "0 2\n",
      "0 2\n",
      "0 2\n",
      "0 2\n",
      "0 2\n",
      "0 2\n",
      "0 2\n",
      "0 2\n",
      "0 2\n",
      "0 2\n",
      "0 2\n",
      "0 2\n",
      "0 2\n",
      "0 2\n",
      "0 2\n",
      "0 2\n",
      "0 2\n",
      "0 2\n",
      "0 2\n",
      "0 2\n",
      "0 2\n",
      "0 2\n",
      "0 2\n",
      "0 2\n",
      "0 2\n",
      "0 2\n",
      "0 2\n",
      "0 2\n",
      "0 2\n",
      "0 2\n",
      "0 2\n",
      "0 2\n",
      "0 2\n",
      "0 2\n",
      "0 2\n",
      "0 2\n",
      "0 2\n",
      "0 2\n",
      "0 2\n",
      "0 2\n",
      "0 2\n"
     ]
    },
    {
     "data": {
      "text/plain": [
       "0.31333333333333335"
      ]
     },
     "execution_count": 149,
     "metadata": {},
     "output_type": "execute_result"
    }
   ],
   "source": [
    "total_correct = 0\n",
    "for i in ClassDt:\n",
    "    pred = i\n",
    "    ClassData = ClassDt[i]\n",
    "    for j in ClassData:\n",
    "        print(int(j[-1]), int(i))\n",
    "        if int(j[-1]) == int(i):\n",
    "            total_correct += 1\n",
    "            \n",
    "        \n",
    "total_correct/150"
   ]
  },
  {
   "cell_type": "code",
   "execution_count": 150,
   "metadata": {},
   "outputs": [
    {
     "data": {
      "image/png": "[encoded data removed]",
      "text/plain": [
       "<Figure size 432x288 with 1 Axes>"
      ]
     },
     "metadata": {
      "needs_background": "light"
     },
     "output_type": "display_data"
    }
   ],
   "source": [
    "for Class in ClassDt:\n",
    "    classData = np.array(ClassDt[Class])\n",
    "    x = classData[:, 1]\n",
    "    y = classData[:, 2]\n",
    "    plt.scatter(x,y)"
   ]
  },
  {
   "cell_type": "code",
   "execution_count": 151,
   "metadata": {},
   "outputs": [
    {
     "data": {
      "image/png": "[encoded data removed]",
      "text/plain": [
       "<Figure size 432x288 with 1 Axes>"
      ]
     },
     "metadata": {
      "needs_background": "light"
     },
     "output_type": "display_data"
    }
   ],
   "source": [
    "plt.scatter(data[:50, 1], data[:50, 2])\n",
    "plt.scatter(data[50:100, 1], data[50:100, 2])\n",
    "plt.scatter(data[100:150, 1], data[100:150, 2])\n",
    "plt.show()"
   ]
  },
  {
   "cell_type": "code",
   "execution_count": null,
   "metadata": {},
   "outputs": [],
   "source": []
  }
 ],
 "metadata": {
  "kernelspec": {
   "display_name": "Python 3",
   "language": "python",
   "name": "python3"
  },
  "language_info": {
   "codemirror_mode": {
    "name": "ipython",
    "version": 3
   },
   "file_extension": ".py",
   "mimetype": "text/x-python",
   "name": "python",
   "nbconvert_exporter": "python",
   "pygments_lexer": "ipython3",
   "version": "3.8.3"
  }
 },
 "nbformat": 4,
 "nbformat_minor": 4
}

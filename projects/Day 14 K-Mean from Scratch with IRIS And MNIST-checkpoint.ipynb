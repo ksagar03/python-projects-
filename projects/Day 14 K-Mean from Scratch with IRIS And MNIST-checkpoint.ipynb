{
 "cells": [
  {
   "cell_type": "code",
   "execution_count": 6,
   "metadata": {},
   "outputs": [],
   "source": [
    "from sklearn.datasets import load_iris\n",
    "import numpy as np\n",
    "import matplotlib.pyplot as plt"
   ]
  },
  {
   "cell_type": "code",
   "execution_count": 7,
   "metadata": {},
   "outputs": [],
   "source": [
    "iris = load_iris()\n",
    "data = iris.data"
   ]
  },
  {
   "cell_type": "code",
   "execution_count": 10,
   "metadata": {},
   "outputs": [
    {
     "data": {
      "image/png": "[encoded data removed]",
      "text/plain": [
       "<Figure size 432x288 with 1 Axes>"
      ]
     },
     "metadata": {
      "needs_background": "light"
     },
     "output_type": "display_data"
    }
   ],
   "source": [
    "plt.scatter(data[:, 2], data[:, 3])\n",
    "plt.show()"
   ]
  },
  {
   "cell_type": "code",
   "execution_count": 12,
   "metadata": {},
   "outputs": [],
   "source": [
    "def Distance2Points(point1, point2):\n",
    "    dis = sum((point1 - point2)**2)**0.5\n",
    "    return dis"
   ]
  },
  {
   "cell_type": "code",
   "execution_count": 73,
   "metadata": {},
   "outputs": [],
   "source": [
    "def KMean(data, k = 3, iteration = 100):\n",
    "    centroids = {}\n",
    "    classes = {}\n",
    "    \n",
    "    for i in range(k):\n",
    "        centroids[i] = data[i]\n",
    "        classes[i] = [] \n",
    "        \n",
    "    for iteration in range(iteration):\n",
    "        ## find Distance of all the datapoints with centroids\n",
    "        for i in range(k):\n",
    "            classes[i] = []\n",
    "            \n",
    "        for dataPoint in data:\n",
    "            Distance = []\n",
    "            for centroid in centroids:\n",
    "                dis = Distance2Points(dataPoint, centroids[centroid])\n",
    "                Distance.append(dis)\n",
    "            \n",
    "            minDis = min(Distance)\n",
    "            minDisIndex = Distance.index(minDis)\n",
    "            classes[minDisIndex].append(dataPoint)\n",
    "            \n",
    "        oldCentroid = dict(centroids)\n",
    "        \n",
    "        for classKey in classes:\n",
    "            classData = classes[classKey]\n",
    "            newCentroid = np.mean(classData, axis = 0)\n",
    "            centroids[classKey] = newCentroid\n",
    "    \n",
    "        isFine = True\n",
    "        for centroid in range(k):\n",
    "            oldCen = oldCentroid[centroid]\n",
    "            currentCen = centroids[centroid]\n",
    "            if np.mean((currentCen - oldCen)/oldCen * 100) > 0.001:\n",
    "                isFine = False\n",
    "                \n",
    "        if isFine == True:\n",
    "            print(iteration)\n",
    "            break\n",
    "    return classes, centroids\n",
    "    "
   ]
  },
  {
   "cell_type": "code",
   "execution_count": 74,
   "metadata": {},
   "outputs": [
    {
     "name": "stdout",
     "output_type": "stream",
     "text": [
      "11\n"
     ]
    },
    {
     "data": {
      "text/plain": [
       "{0: array([6.85384615, 3.07692308, 5.71538462, 2.05384615]),\n",
       " 1: array([5.88360656, 2.74098361, 4.38852459, 1.43442623]),\n",
       " 2: array([5.006, 3.428, 1.462, 0.246])}"
      ]
     },
     "execution_count": 74,
     "metadata": {},
     "output_type": "execute_result"
    }
   ],
   "source": [
    "ClassDt, Cen = KMean(data)\n",
    "Cen"
   ]
  },
  {
   "cell_type": "code",
   "execution_count": 79,
   "metadata": {},
   "outputs": [
    {
     "data": {
      "text/plain": [
       "50"
      ]
     },
     "execution_count": 79,
     "metadata": {},
     "output_type": "execute_result"
    }
   ],
   "source": [
    "len(ClassDt[2])"
   ]
  },
  {
   "cell_type": "code",
   "execution_count": 83,
   "metadata": {},
   "outputs": [
    {
     "data": {
      "image/png": "[encoded data removed]",
      "text/plain": [
       "<Figure size 432x288 with 1 Axes>"
      ]
     },
     "metadata": {
      "needs_background": "light"
     },
     "output_type": "display_data"
    }
   ],
   "source": [
    "for Class in ClassDt:\n",
    "    classData = np.array(ClassDt[Class])\n",
    "    x = classData[:, 1]\n",
    "    y = classData[:, 2]\n",
    "    plt.scatter(x,y)"
   ]
  },
  {
   "cell_type": "code",
   "execution_count": null,
   "metadata": {},
   "outputs": [],
   "source": []
  }
 ],
 "metadata": {
  "kernelspec": {
   "display_name": "Python 3",
   "language": "python",
   "name": "python3"
  },
  "language_info": {
   "codemirror_mode": {
    "name": "ipython",
    "version": 3
   },
   "file_extension": ".py",
   "mimetype": "text/x-python",
   "name": "python",
   "nbconvert_exporter": "python",
   "pygments_lexer": "ipython3",
   "version": "3.8.3"
  }
 },
 "nbformat": 4,
 "nbformat_minor": 4
}

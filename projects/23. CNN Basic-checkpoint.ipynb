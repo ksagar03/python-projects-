{
 "cells": [
  {
   "cell_type": "code",
   "execution_count": 1,
   "metadata": {},
   "outputs": [],
   "source": [
    "import cv2\n",
    "import numpy as np\n",
    "from skimage.exposure import rescale_intensity"
   ]
  },
  {
   "cell_type": "code",
   "execution_count": 2,
   "metadata": {},
   "outputs": [
    {
     "name": "stdout",
     "output_type": "stream",
     "text": [
      "--2020-10-01 06:51:25--  https://scx2.b-cdn.net/gfx/news/hires/2018/2-dog.jpg\n",
      "Resolving scx2.b-cdn.net (scx2.b-cdn.net)... 89.187.162.243\n",
      "Connecting to scx2.b-cdn.net (scx2.b-cdn.net)|89.187.162.243|:443... connected.\n",
      "HTTP request sent, awaiting response... 200 OK\n",
      "Length: 415118 (405K) [image/jpeg]\n",
      "Saving to: ‘2-dog.jpg’\n",
      "\n",
      "2-dog.jpg           100%[===================>] 405.39K   666KB/s    in 0.6s    \n",
      "\n",
      "2020-10-01 06:51:27 (666 KB/s) - ‘2-dog.jpg’ saved [415118/415118]\n",
      "\n"
     ]
    }
   ],
   "source": [
    "!wget https://scx2.b-cdn.net/gfx/news/hires/2018/2-dog.jpg"
   ]
  },
  {
   "cell_type": "code",
   "execution_count": 3,
   "metadata": {},
   "outputs": [],
   "source": [
    "image = cv2.imread(\"2-dog.jpg\")"
   ]
  },
  {
   "cell_type": "code",
   "execution_count": 5,
   "metadata": {},
   "outputs": [],
   "source": [
    "gray = cv2.cvtColor(image, cv2.COLOR_BGR2GRAY)"
   ]
  },
  {
   "cell_type": "code",
   "execution_count": 24,
   "metadata": {},
   "outputs": [],
   "source": [
    "\n",
    "BlurKernel = np.array([\n",
    "    [0.0625, 0.125, 0.0625],\n",
    "    [0.125, 0.25, 0.125],\n",
    "    [0.0625, 0.125, 0.0625]\n",
    "])"
   ]
  },
  {
   "cell_type": "code",
   "execution_count": 26,
   "metadata": {},
   "outputs": [],
   "source": [
    "Sharpen = np.array([\n",
    "    [0, -1, 0],\n",
    "    [-1, 5, -1],\n",
    "    [0, -1, 0],\n",
    "])"
   ]
  },
  {
   "cell_type": "code",
   "execution_count": 27,
   "metadata": {},
   "outputs": [],
   "source": [
    "(iH, iW) = gray.shape[:2]\n",
    "(kH, kW) = Kernel.shape[:2]"
   ]
  },
  {
   "cell_type": "code",
   "execution_count": 28,
   "metadata": {},
   "outputs": [],
   "source": [
    "pad = (kW-1)//2"
   ]
  },
  {
   "cell_type": "code",
   "execution_count": 29,
   "metadata": {},
   "outputs": [
    {
     "data": {
      "text/plain": [
       "(1440, 1920)"
      ]
     },
     "execution_count": 29,
     "metadata": {},
     "output_type": "execute_result"
    }
   ],
   "source": [
    "gray.shape"
   ]
  },
  {
   "cell_type": "code",
   "execution_count": 30,
   "metadata": {},
   "outputs": [],
   "source": [
    "newImage = cv2.copyMakeBorder(gray, pad,pad, pad, pad, cv2.BORDER_REPLICATE)"
   ]
  },
  {
   "cell_type": "code",
   "execution_count": 14,
   "metadata": {},
   "outputs": [
    {
     "data": {
      "text/plain": [
       "(1442, 1922)"
      ]
     },
     "execution_count": 14,
     "metadata": {},
     "output_type": "execute_result"
    }
   ],
   "source": [
    "newImage.shape"
   ]
  },
  {
   "cell_type": "code",
   "execution_count": 32,
   "metadata": {},
   "outputs": [],
   "source": [
    "outPut = np.zeros((iH, iW), dtype = \"float\")"
   ]
  },
  {
   "cell_type": "code",
   "execution_count": 33,
   "metadata": {},
   "outputs": [],
   "source": [
    "### loop over the image \"Sliding the Kernel accross each (x,y)\n",
    "### coordinate from left to right and top to bottom\"\"\""
   ]
  },
  {
   "cell_type": "code",
   "execution_count": 34,
   "metadata": {},
   "outputs": [],
   "source": [
    "for y in np.arange(pad, iH + pad):\n",
    "    for x in np.arange(pad, iW + pad):\n",
    "        ### extract the ROI of the Image by extraction \n",
    "        ## the Center of current (x,y) -Coordinates\n",
    "        roi = newImage[y-pad:y+pad+1, x-pad:x+pad+1]\n",
    "        k = (roi * Sharpen).sum()\n",
    "        outPut[y-pad, x - pad] = k"
   ]
  },
  {
   "cell_type": "code",
   "execution_count": 35,
   "metadata": {},
   "outputs": [],
   "source": [
    "outPut = rescale_intensity(outPut, in_range=(0,255))"
   ]
  },
  {
   "cell_type": "code",
   "execution_count": null,
   "metadata": {},
   "outputs": [],
   "source": [
    "while True:\n",
    "    outPut = cv2.resize(outPut, (300, 300))\n",
    "    cv2.imshow(\"My Kernel Image\", outPut)\n",
    "    if cv2.waitKey(1) == 13:\n",
    "        break"
   ]
  },
  {
   "cell_type": "code",
   "execution_count": null,
   "metadata": {},
   "outputs": [],
   "source": []
  }
 ],
 "metadata": {
  "kernelspec": {
   "display_name": "Python 3",
   "language": "python",
   "name": "python3"
  },
  "language_info": {
   "codemirror_mode": {
    "name": "ipython",
    "version": 3
   },
   "file_extension": ".py",
   "mimetype": "text/x-python",
   "name": "python",
   "nbconvert_exporter": "python",
   "pygments_lexer": "ipython3",
   "version": "3.8.3"
  }
 },
 "nbformat": 4,
 "nbformat_minor": 4
}
